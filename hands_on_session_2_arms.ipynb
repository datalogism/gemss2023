{
 "cells": [
  {
   "cell_type": "markdown",
   "metadata": {
    "id": "aJ_pmgxvGur9"
   },
   "source": [
    "# Hands-on session 2 - Autoregressive Models\n",
    "## Generative Modeling Summer School 2023"
   ]
  },
  {
   "cell_type": "markdown",
   "metadata": {
    "id": "mEneMITS2agU"
   },
   "source": [
    "#### Instructions on how to use this notebook:\n",
    "\n",
    "This notebook is hosted on ``Google Colab``. To be able to work on it, you have to create your own copy. Go to *File* and select *Save a copy in Drive*.\n",
    "\n",
    "You can also avoid using ``Colab`` entirely, and download the notebook to run it on your own machine. If you choose this, go to *File* and select *Download .ipynb*.\n",
    "\n",
    "The advantage of using **Colab** is that you can use a GPU. You can complete this assignment with a CPU, but it will take a bit longer. Furthermore, we encourage you to train using the GPU not only for faster training but also to get experience with this setting. This includes moving models and tensors to the GPU and back. This experience is very valuable because, for various models and large datasets (like large CNNs for ImageNet, or Transformer models trained on Wikipedia), training on GPU is the only feasible way.\n",
    "\n",
    "The default ``Colab`` runtime does not have a GPU. To change this, go to *Runtime - Change runtime type*, and select *GPU* as the hardware accelerator. The GPU that you get changes according to what resources are available at the time, and its memory can go from 5GB to around 18GB if you are lucky. If you are curious, you can run the following in a code cell to check:\n",
    "\n",
    "```sh\n",
    "!nvidia-smi\n",
    "```\n",
    "\n",
    "Note that despite the name, ``Google Colab`` does not support collaborative work without issues. When two or more people edit the notebook concurrently, only one version will be saved. You can choose to do group programming with one person sharing the screen with the others or make multiple copies of the notebook to work concurrently.\n",
    "\n",
    "**Submission:** Please bring your (partial) solution to the hands-on session. Then you can discuss it with the intructors and your colleagues."
   ]
  },
  {
   "cell_type": "code",
   "execution_count": 19,
   "metadata": {
    "colab": {
     "base_uri": "https://localhost:8080/"
    },
    "id": "lBgoJIpdLI2Y",
    "outputId": "cc82f2aa-b2d7-490c-dcb4-7a013b0c287e"
   },
   "outputs": [
    {
     "name": "stdout",
     "output_type": "stream",
     "text": [
      "/bin/bash: line 1: nvidia-smi: command not found\r\n"
     ]
    }
   ],
   "source": [
    "!nvidia-smi"
   ]
  },
  {
   "cell_type": "markdown",
   "metadata": {
    "id": "tsdc7fDp40rQ"
   },
   "source": [
    "## Introduction\n",
    "\n",
    "In this assignment, we are going to implement an Autoregressive Model (ARM). An ARM is a likelihood-based deep generative model that is parameterized by causal convolutional neural networks or causal transformers. Here, we focus on causal convolutions. The approach of parameterizing ARMs with causal convolutions was utilized in multiple papers, e.g.:\n",
    "- [Van den Oord, Aaron, et al. \"Conditional image generation with pixelcnn decoders.\" NeurIPS 29 (2016).](https://proceedings.neurips.cc/paper/6527-conditional-image-generation-with-pixelcnn-decoders)\n",
    "- [Oord, Aaron van den, et al. \"Wavenet: A generative model for raw audio.\" arXiv preprint arXiv:1609.03499 (2016).](https://arxiv.org/abs/1609.03499)\n",
    "\n",
    "You can read more about ARMs in Chapter 2 of the following book:\n",
    "- [Tomczak, J.M., \"Deep Generative Modeling\", Springer, 2022](https://link.springer.com/book/10.1007/978-3-030-93158-2)\n",
    "\n",
    "In particular, the goals of this assignment are the following:\n",
    "\n",
    "- Understand how ARMs are formulated\n",
    "- Implement causal convolutions and ARMs using PyTorch\n",
    "- Train and evaluate a model for image data"
   ]
  },
  {
   "cell_type": "markdown",
   "metadata": {
    "id": "RvsuVNczG6pP"
   },
   "source": [
    "### Theory behind ARMs\n",
    "\n",
    "ARMs are probabilistic models that utilize factorization of joint distribution in the following manner:\n",
    "$$\n",
    "p(\\mathbf{x}) = \\prod_{d=1}^{D} p(x_d | \\mathbf{x}_{1:d-1}) .\n",
    "$$\n",
    "\n",
    "Then the log-likelihood function is the following:\n",
    "$$\n",
    "\\ln p(\\mathbf{x}) = \\sum_{d=1}^{D} \\ln p(x_d | \\mathbf{x}_{1:d-1}) .\n",
    "$$\n",
    "\n",
    "This is very convenient because we *only* need to model conditionals. The challenge though is how to allow learning long-range dependencies (a *long-term memory*).\n",
    "\n",
    "One possible way of accomplishing that is by utilizing **causal convolutions**. Then, we can use a convolutional neural network that predicts the parameters of the conditionals in a single forward run!  "
   ]
  },
  {
   "cell_type": "markdown",
   "metadata": {
    "id": "suzhlbWqxtD9"
   },
   "source": [
    "## IMPORTS"
   ]
  },
  {
   "cell_type": "code",
   "execution_count": 20,
   "metadata": {
    "colab": {
     "base_uri": "https://localhost:8080/"
    },
    "id": "BjxkigYLxpB7",
    "outputId": "c972dbc3-8c05-41d1-a5c4-322baa382cee"
   },
   "outputs": [
    {
     "name": "stdout",
     "output_type": "stream",
     "text": [
      "Requirement already satisfied: pytorch_model_summary in /root/anaconda3/lib/python3.8/site-packages (0.1.2)\n",
      "Requirement already satisfied: tqdm in /root/anaconda3/lib/python3.8/site-packages (from pytorch_model_summary) (4.65.0)\n",
      "Requirement already satisfied: numpy in /root/anaconda3/lib/python3.8/site-packages (from pytorch_model_summary) (1.24.2)\n",
      "Requirement already satisfied: torch in /root/anaconda3/lib/python3.8/site-packages (from pytorch_model_summary) (1.7.1)\n",
      "Requirement already satisfied: typing-extensions in /root/anaconda3/lib/python3.8/site-packages (from torch->pytorch_model_summary) (4.5.0)\n",
      "\u001b[33mWARNING: Running pip as the 'root' user can result in broken permissions and conflicting behaviour with the system package manager. It is recommended to use a virtual environment instead: https://pip.pypa.io/warnings/venv\u001b[0m\u001b[33m\n",
      "\u001b[0m"
     ]
    }
   ],
   "source": [
    "# DO NOT REMOVE!\n",
    "import os\n",
    "\n",
    "import numpy as np\n",
    "import matplotlib.pyplot as plt\n",
    "\n",
    "import torch\n",
    "\n",
    "from torch.utils.data import Dataset, DataLoader\n",
    "import torch.nn as nn\n",
    "import torch.nn.functional as F\n",
    "\n",
    "import torchvision\n",
    "from torchvision.datasets import MNIST\n",
    "\n",
    "!pip install pytorch_model_summary\n",
    "from pytorch_model_summary import summary"
   ]
  },
  {
   "cell_type": "code",
   "execution_count": 21,
   "metadata": {
    "colab": {
     "base_uri": "https://localhost:8080/"
    },
    "id": "Cm23hRm6CqGh",
    "outputId": "38ac26fe-5c33-4066-af5d-ba1d7bf55967"
   },
   "outputs": [
    {
     "name": "stdout",
     "output_type": "stream",
     "text": [
      "The available device is cpu\n"
     ]
    }
   ],
   "source": [
    "# Check if GPU is available and determine the device\n",
    "if torch.cuda.is_available():\n",
    "  device = 'cuda'\n",
    "else:\n",
    "  device = 'cpu'\n",
    "device = 'cpu'\n",
    "print(f'The available device is {device}')"
   ]
  },
  {
   "cell_type": "code",
   "execution_count": 22,
   "metadata": {
    "colab": {
     "base_uri": "https://localhost:8080/"
    },
    "id": "81CxONpmMulC",
    "outputId": "7d38f85c-c470-44b6-92ca-2f4806790975"
   },
   "outputs": [],
   "source": [
    "# mount drive: WE NEED IT FOR SAVING IMAGES!\n",
    "#from google.colab import drive\n",
    "#drive.mount('/content/gdrive')"
   ]
  },
  {
   "cell_type": "code",
   "execution_count": 23,
   "metadata": {
    "id": "OoPb92zNM4UY"
   },
   "outputs": [],
   "source": [
    "# PLEASE CHANGE IT TO YOUR OWN GOOGLE DRIVE!\n",
    "images_dir = '/user/cringwal/home/Desktop/THESE_YEAR1/GEMSS2023/Assignements/'"
   ]
  },
  {
   "cell_type": "markdown",
   "metadata": {
    "id": "I3zs31tOyCmq"
   },
   "source": [
    "## Auxiliary functions"
   ]
  },
  {
   "cell_type": "markdown",
   "metadata": {
    "id": "DF0agzL7tDHK"
   },
   "source": [
    "Let us define some useful log-distributions:"
   ]
  },
  {
   "cell_type": "code",
   "execution_count": 24,
   "metadata": {
    "id": "LIBNVRNJtHSd"
   },
   "outputs": [],
   "source": [
    "# DO NOT REMOVE\n",
    "PI = torch.from_numpy(np.asarray(np.pi))\n",
    "EPS = 1.e-5\n",
    "\n",
    "\n",
    "def log_categorical(x, p, num_classes=256, reduction=None, dim=None):\n",
    "    x_one_hot = F.one_hot(x.long(), num_classes=num_classes)\n",
    "    log_p = x_one_hot * torch.log(torch.clamp(p, EPS, 1. - EPS))\n",
    "    if reduction == 'mean':\n",
    "        return torch.mean(log_p, dim)\n",
    "    elif reduction == 'sum':\n",
    "        return torch.sum(log_p, dim)\n",
    "    else:\n",
    "        return log_p\n",
    "\n",
    "\n",
    "def log_bernoulli(x, p, reduction=None, dim=None):\n",
    "    pp = torch.clamp(p, EPS, 1. - EPS)\n",
    "    log_p = x * torch.log(pp) + (1. - x) * torch.log(1. - pp)\n",
    "    if reduction == 'mean':\n",
    "        return torch.mean(log_p, dim)\n",
    "    elif reduction == 'sum':\n",
    "        return torch.sum(log_p, dim)\n",
    "    else:\n",
    "        return log_p\n",
    "\n",
    "\n",
    "def log_normal_diag(x, mu, log_var, reduction=None, dim=None):\n",
    "    D = x.shape[1]\n",
    "    log_p = -0.5 * D * torch.log(2. * PI) - 0.5 * log_var - 0.5 * torch.exp(-log_var) * (x - mu)**2.\n",
    "    if reduction == 'mean':\n",
    "        return torch.mean(log_p, dim)\n",
    "    elif reduction == 'sum':\n",
    "        return torch.sum(log_p, dim)\n",
    "    else:\n",
    "        return log_p\n",
    "\n",
    "\n",
    "def log_standard_normal(x, reduction=None, dim=None):\n",
    "    D = x.shape[1]\n",
    "    log_p = -0.5 * D * torch.log(2. * PI) - 0.5 * x**2.\n",
    "    if reduction == 'mean':\n",
    "        return torch.mean(log_p, dim)\n",
    "    elif reduction == 'sum':\n",
    "        return torch.sum(log_p, dim)\n",
    "    else:\n",
    "        return log_p"
   ]
  },
  {
   "cell_type": "code",
   "execution_count": null,
   "metadata": {},
   "outputs": [],
   "source": []
  },
  {
   "cell_type": "markdown",
   "metadata": {
    "id": "Q2LLOs0kn7iw"
   },
   "source": [
    "## Implementing ARMs\n",
    "\n",
    "The goal of this assignment is to implement two classes:\n",
    "- `CausalConv1d`: this class implements the causal covolution layer for 1d sequences.\n",
    "- `ARM`: this class implements an autoregressive model for 1d sequences."
   ]
  },
  {
   "cell_type": "markdown",
   "metadata": {
    "id": "7cXhOwKAzW6Z"
   },
   "source": [
    "### Causal Convolutions for sequences\n",
    "The first class is for causal convolutions (*no looking ahead*). Please remember that there are two options: (A) no dependency on the current token, (B) with a dependency on the current token."
   ]
  },
  {
   "cell_type": "code",
   "execution_count": 25,
   "metadata": {
    "id": "MrwQXSuEoFfH"
   },
   "outputs": [],
   "source": [
    "# YOUR CODE GOES HERE\n",
    "# In this class you are asked to implement the following:\n",
    "# (i) how to calculate the padding properly\n",
    "# (ii) how to use the built-in PyTorch class for Conv1d\n",
    "# (iii) how to implement `forward` for options A and B\n",
    "# HINT: You may use torch.nn.functional.pad(...) for padding only from one side!\n",
    "\n",
    "class CausalConv1d(nn.Module):\n",
    "    def __init__(self, in_channels, out_channels, kernel_size, dilation, A=False, **kwargs): # IF NECESSARY, PLEASE ADD APPROPRIATE ATTRIBUTES\n",
    "        super(CausalConv1d, self).__init__()\n",
    "\n",
    "        # these attributes MUST be implemented:\n",
    "        self.in_channels = in_channels\n",
    "        self.out_channels = out_channels\n",
    "        self.kernel_size = kernel_size\n",
    "        self.dilation = dilation\n",
    "        self.A = A\n",
    "\n",
    "        #self.padding = 0 # PLEASE FILL IN AN APPROPRIATE FORMULA!\n",
    "\n",
    "        self.padding = (kernel_size - 1) * dilation + A * 1\n",
    "        # module (IF YOU HAVE A DIFFERENT IDEA HOW TO IMPLEMENT IT, PLEASE MODIFY IT ACCORDINGLY):\n",
    "        self.conv1d = torch.nn.Conv1d(in_channels, out_channels,\n",
    "                                      kernel_size, stride=1,\n",
    "                                      padding=0, # FILL IN IF NECESSARY\n",
    "                                      dilation=dilation,\n",
    "                                      **kwargs)\n",
    "\n",
    "        # IF YOU NEED ANYTHING ELSE, PLEASE ADD IT HERE\n",
    "\n",
    "    def forward(self, x):\n",
    "        x = torch.nn.functional.pad(x, (self.padding, 0))\n",
    "        conv1d_out = self.conv1d(x)\n",
    "        if self.A:\n",
    "            return conv1d_out[:, :, : -1]\n",
    "        else:\n",
    "            return conv1d_out\n"
   ]
  },
  {
   "cell_type": "markdown",
   "metadata": {
    "id": "8XVlH5OUzdgJ"
   },
   "source": [
    "Please answer the following questions:"
   ]
  },
  {
   "cell_type": "markdown",
   "metadata": {
    "id": "D1BNAH02zjjt"
   },
   "source": [
    "### Question 1\n",
    "\n",
    "Please explain the idea behind causal convolutions and provide a mathematical formula (if possible) and/or a figure."
   ]
  },
  {
   "cell_type": "markdown",
   "metadata": {
    "id": "UlxYq7-gzo_o"
   },
   "source": [
    "**ANSWER:**\n",
    "\n",
    "Causal Convolutions are Autoregressive neural model, that integrate long-range memory like RNN. This design have different advantages : kernels are shared, the process could be done on parralel, and they don't suffer from vanishing/exploding gradients problems.\n",
    "\n",
    "In Causal Convolutions networks have layers dependent from current input (option B) and/or the last k inputs (option A). A given node take by this way decision only based on the past state.\n",
    "![sequential_CNN.png](data:image/png;base64,iVBORw0KGgoAAAANSUhEUgAAAvMAAAHICAYAAADDUGUkAACAAElEQVR42uydB5hURdaGq3OY7unJDDDAAEMODkEYMogIioqKioqKigqIiC4qKiIiKirGNa4YV9eEimtYd9VVV3dXXVQUVFRUJOeck/3X8Z7+uVymh+6ee2e6637v85wHJnT65pzur+qeqhICAAAAAAAAAAAAAAAAAAAAAAAAAAAAAAAAAAAAAAAAAAAAAAAAAAAAAAAAAAAAAAAAAAAAAAAAAAAAAAAAAAAAALWFV0ZzGcfI6COjUIYTsgAAAAAAAJDekHEfJ+NRGZNkPCbjNhlNYOgBAAAAAABIX/LZwH8g4woZHWVcKmOOjHNkhCARAAAAAAAA6YdHxsUyvpFxj4zGQpuJJ0P/hYyHZJRAJgAAAAAAANKPbjI+kvGljN5C65snWsj4r4wPZbSCTAAAAAAAAKQXYaHNxq8TWn98ke5nbYXWZvOtjHJIBQAAAAAAQHrRQ8ZXMpbJGCTDp/sZzdJ/J+MHGR0gFQAAAAAAAOmDW8bNMtbL+LvQtqR06H5+rozFbPbbQy4AAAAAAADSh7pC64ffLWOG0Ba+hjkiMu5go/+O0PrnAQAAAAAAAGnCQBm/ytgrtL3lR8k4j+MiGf+RsUvGw6Lq3WxyZJTKaC2jGLICAAAAAABgPbSv/FoZK2S8yIY+Fm/K2MhGn/abj8S5D2rL6STjSqEdMnUaZAUAAAAAAMB6npOxTcZsoe1ck6cLmqVfyka/v9D2oo9n5svZyK+WcRlkBQAAAAAAwHpob3lqo7mBDXwM2meetqvcIONVGc3EwQtjjdBC2ltkzJNxPGQFAAAAAADAer4W2sz8OTKydN9vKuPfQmuzGS0qb7GhE2JpG0uasae96V8Q2o44nSErAAAAAAAA1jNfaD3zx4kD+8vTDPyFMpYIbaebI9i4C93PQzLKZHTlnx8l41MZDwltISwAAAAAAADAYsisU198P3GgJ55m4amHfrmMi8Whs/L0Ne0/Twtm7xPaYtm3hdYvP05oO9sAAAAAAAAALIa2nFwk41ihzcy72Kj/JOMJGY0Mvx+QMVHG50JrzaH96Ouw+f9ZxglC67cHIO2ghR09fQHfvTm5OV+Gs8PLZazPCmWtlf/+GgwGaUQ6hX4HUlWuXV5B3iMyvs7OCa/IjoQ3kHYyfvR4PLSSfiRG8pXrJmNGdiT781A4tEzGOgr59eJITuQ95FwC9ZqXM1efc1SvXp/3TWhXtXZ16hbOjNVr7L0O9Xp43Zxu512o19S0C4aCfzTWa1Y4axHqNbF6zS/KnxfJzV5J9RrMCq4JZAV+cDqdzyZQr6fIWCi0nWvo9zoKrV3mLRnt2NzroXYa6rOnGfnYvvN0u1kyKM9pi0oH/jQg3QplRCDgX9W4aenG8RMv3fvUK49F3/7P69F/ffVe9P0v/hF95Z0Xonc+dFv01LNOXkWF5HA4fpW3Gcu3tbV2cpBzIb2xNGtVtv3ya8dFK9Nuyh3X7+nSrfNSl8u5Q95mugw/ck6McHvdy0pKS9aMnTB6a7ycO/P8YVsLivLXu1yuJcg5Xb0GA6sbl5VuqqpeTz5jyHIyDajXA9oVFeWPIRPVvGWzHfHq9YbbJ+3q3K3TYmkStqNeD+Sc1+td3qBRg7WXXjVme7ycO2PE6Ztz83PXoF4P1o6MZ5NmjTdffs24/XHr9fQhS2mAhHo9uF4jOdkbW7Ruvquqeu3YtcOiw9QrzaxTm8zHQut3pxn3p9jIG3WmGff7hXbI1Bkygvz91jwAeESgXx6kGSWBQGBu2yPabHzx7b9Ef1gzP6F4/IVHltHsgrz9XBsndUl+Qf6PHbt02J2odu989la0W++KpW6Pe66o+pQ5pXVzu93/a9qsydIX//bsvkRz7ulXHt/RoFHJT3bPuaxQ1rx25W03JVOvM194eLH8QPzC7toV1Sn8Odl67drjSDIJX9i9Xpu3KluZTL0+9fLMrfVK6v6Aes2a175ju63J1Osjzz74fTg7PMfu2tWpW2dR54pOe5Op104VHRfGqVeaRS+UMUjGWTJ6yMgXh87IE7To9Q2hzcx31/3O6UJbSDue/y64cgfSggqfz7dmwvWX70j0TUYf366cu3fA4KNoX1ZaVGKrY40D4UCP7Eh4y8Qbr4ymot3l145bLw39KhsahAqXy7ni0qvGLE9Ft+9WfBU956LhXzkcjmXCfkdpVwQC/nVXTr5iV4ra7ew3sM9Ldq3XSG5kW6r1Ou7qsatdbtdKW9arfN30+lOt17POG/Y/O+bc7/UaDKy/esqEvSl9vq74amuPPt2fsaN2jRo16peTl7M91Xqlzxf6nIlj6GnWnWbuPSJ+mwxtXUm98e8LbeaeoD77e2V8I7R+eTL0p8BGgtqmlIz8g0/fty+VYtHHoBOOeV3e37vCPpcES8kYPPTnP1ZLt4lTr9zh9/sX8CyALXRzuVwr7nn0ztXVzbkLLhnxgzT079kp58jIVzfnKNjQ26peyRhUV7urbvjDZo/X84296tW54r7H7tpQ3ZwbcfHweXbLuaA08mbUKxt622gXKYo0zcvP3Vld7SZMvmJ9NeqVZuJp8SvtP08HQzUQ2h70NDD9TmgLYsnYHwUrCWoTtzTy3113y8Qd1X2jic3Q0yIyoS1AUV67/IL8pTfcdl3UDO2OP2XwRq/f+5QddJPm+6vxEy/90QzdaMavSVnjJXbJORr0Tbrlml1m1Su33NhCu6I6hSvMqtfBJw1a5/F4nrCDbk6n8+srrhu/2Kx6bdS44SK75Bwtor7+1mv2mFKvK77ayi03ttCuuF7xarPqddAJx6x0upyPp/hcGsq4RsbdMm4X2hqGM4XWdz9TaFtZ1oOdBLXJ+A5dyleZUSyxeP6tPy+hN3/VhSuuXzy5z4Be+83Sbe6iz6I5eTmb5V23VT3nGjctnWdmztHCp0Ag8L0d6vXIik7rTK3XN57+iQZXqgvXuGnjaX0H9P7NzHqlxXh2qNfmLZt9b2bOvfzO8/toEkn1nHN6nFdU9Oyy2UztnnntSbqyMVd17Vq3b31Hv2P6RM2sV9qcIsV6pdl52oqyhYyWQmt1ypbRREYrofXf232BMqhFQtRe8+ZHs6NmvtlQFBTmUx+zyscbh6i9xmztpt83bU8wGHxXZd2ox/2v789aa3bOlTZptEX1nKP2GivqNTc/d7Hq2lF7jdna3XLv1O3yPfQfKuvmdDqX//XDV7aYnXMNGpVsVD3nqL3GinqVg8hfVNcuvyB3l9naTbvrxk1ur/ttWD+gGkPbHNF6udlvNBTnXDh8nbz/Ccq+04RCZ/Ts132/2brNW/p5NBgKbhXqLnIaWr9Bva+tyLmLLxspDX3pdJXr9YhO7ddYod0Z5562VOV6bVDa4Lye/Xr8Zkm9Bv2bVa7XhqUNvrGqXvMK8m5QuV47dumwwQrtTj9n6CKV67Vlu5YX9zqqZ9SKeg0EfJuE/RZgA5WhwxWmzrhhuxVvNn984u5odiRb2RFw46alH95yz9SoFdqdeNoJtFPGeEWle+ayiWM/syrnmrdurmy7iMfreX7a3VP2WKVdMBh8Q1Xtylo0/bdV9Xr8KccuUbler7zhim+tyrnGTRv/T9WcCwQCL1mVc/c9dtcet9c9W1Xt2rRvNccq7Y45fsCPCtcrsCNer3cxHbhgRcG89v4smnX5RVXtcvNyN1ilHa3cdzgcLysq3cI3/vXqMqtyrrRJow3qmgP/Mqtyji5n5+bn/KSqdgWF+Zut0u6Bp+7dLbSTIJWs17f+/dftVuVcg0Yla1XNuWBWcIWV9RrODiu7RqiwTuFWq7S777E71ylcr8CO0AmktCjEioKh09h4cZiqA6E9VmlHh134fL55ikq31cqckx8CO5WtV7drp5XahcKhdapqJ+tpr5X16nY7v0S9plCvRQU7VM05t8e9y0rtskJZyg6E/H7fPivrVT7EHDhAoAwOh2OfFcVCQccrR3IjmxQeCP1mpXbSfKxQVLq9VupWXK/OXlVzzul07re0XhUefFtdr3KgtRT1mrxuRQoPvq2uV96ZBfWKegV2R77Z7KYFIVYUDF0iyyvIU3bmwO1x77NSO4/Xo2rLw04rdavfoL6yM33yA26PldpF8iKrVNVO1tN+K7Vzu50/ol6T161eSd1tqNfUtMvOCa9AvaamnXyIBXCAQBm8Pu9yuuRkRcE89cpj0eJ6xcoWDF11sFI7h8PxoaLSLXr7v6+vtEq3lm2ar1E15/x+/0orc66oTsE3qmqXm5e7xSrtnpw1k3rmP1C1Xv/x6Zvbrcq55q3KVqqac4FgYLWV9ZqTl6PsXvP5BXnbrNLusRceWa9wvQI74na7X739gVt2WlEwl187LlpcUvy4qtqVNKr/nzsfus2SN5uLxo2kGZcZiko3a+KNEz6zKud6HdX9X8rWq9c9+44Hp++xSru8grxHVNWuafMmn1tVrxeMOfcXlet10q3XzLcq547s1unvquZcVlbwTaty7vJrxu33BXz3qqod7UpmlXZnX3jmdwrXK7Apwzt367TYioJp0br5Lnn/PVUVLi8vb+Qxg4+2ZM1Bcf3i5QprN7y0rNQSM9+2vE30mMH9z1C5Xrv3rlhthXbNWpZtU7le6zeoP3rg8QMs6cMtLC5conK9ytz40qp67VDR4USV67VH3+5rrdCuSbPGm1Wu13ZHtP7DwBOOscTM8y57PQUAClHg8XjW08p4M4vlxbf/Es2OhGmLQJWPNy4IR0I7TNfub8/uc3vdyxTWrsDpdK5+b87bm83OOV5Mp3TO+Xy+jVbUK+9ko7R28j1pp9navfDWs7tdLtcSG9TrdrNzrqAwf7vqOUcHFFlRr8Gs4BrVtYvkRnabrd3zbz6zVebzYsW1AzZlSv9B/Uw9BbZjlw67g8HghaoLV1RccNdJp59o6ux80+ZNyciPUD3n2ndoa+rsfJceR0Z79e91ix3qdeDxR5s629ehc/kOj99zgerCNWhccv/Jw4aYusNIo8YNF9mhXjt16TDX1Hrt3vm38s7lk1TPOafbOfXYIQM3mald+47tttog50Szls3+dMoZQ0w18w0alfxkB+2APQnRTPB9M+80pXd+4o1XRnPzIgtsMvIN0fZgdJKhST2k690e9xwbaBdyOBy/3nrfTT+YlXPSVK2yS87RtqVm1evVN07Yn52T/a1dtKPtN82q13FXj13tdrv/Z4d6pdnM2++/ZbFZ9SpN1XK75BwtXP/j43ebMulz9ZQJe7NCWfPsol1OXs5ms+r1kgmjl7hcrs8EZuWBwpR7vd4N1OJR3ZNLpbmlXr4SO2lH7TZ06bNap0g+ee9OaeRX2Ui7crp8/5fXn15X3ZzLL8jdVVxaXGqnnKPL99XNOdIumBXcYKd6DUaCneTgZVd1tZMGY7PL7Vppp3p1uZxrnnvj6Y3Vzbm8/LyddqvXYNC/2Yx6DQQD6+1Wr9RuU13t7nvsrg3SyK+wmTcBNmUwGfpUZ/wmT79uPxv5CrsJ5wv6TiRDn+oMwrU3XbXZ4/OstqF2g8kg3PHgrctS0e2G26773Rg0atSonx3rlQy9/JDak2q9spG3Xb3m5OScXJ16nTjlynU88LZfvbpda2c8NH1lqvWak5ez3a71SoY+1Rn662+9Zk9QM/K2q9eioqKhNABPtV6vuuGKVTzwrhAA2GUGQRr65ccMPnpNogtP3vxodrRbn4pt2ZHsn+XtS+2sHR2vfcKpg3cmo12HLuWrPF7PNzbWjmboF/fo233hPz//+75EdeszoNf+wqKC5ZGiSFM75xy13Aw84Zj1ydZrKBxaaPd6pRa5Iacdvzupeu18xAq71yst+O3dv+cvyejW66iee6he7Z5z1HJDPfTJaFfRs8tm+dnyo521+/2KWiS8Ycjpx+9JRrt2HdoukZ8vX9s874BNCcmYQrtm0DZ4Mx6avo8Ob4idxjZ30We/n6B2yz1To50rOtGbzMZAIHClQB/a79qFw1nTg6Hg1r4D+mylfXIr027a3VP2tO/QbpXUmHYkGA/ttJxze9zraKtUOvsgXs5V9Oq6M5KTvbW4fvFk6HZAO5qlp23wqqrXTl06bKTZeKfHeQW0O1CvWeGsbf2O6bstbr3edcMuaQpWejy/Xz1DverqtUu3zkurrNeeXXZIE7YlvzD/OuimaUeLYmP1Gi/nSLuOXTpsoNl41OsB7fIK8mZQvR41qO+Oquq1zRGtl/PVM9QrsD0FMoZLo/56IOBfRUdTyxHuflkgu6QhWBEOh16RPx/Kb+ygEu0iuZG/0xZiMe1cbtdOqeUyj9fzPLSLr5vD4XiZZrD0ORcKh1YV1il4E7qhXq3SLjcv8o9K69XjeQ7axdeNDh801mtWKGulNPBvQLeqtaODpeikWGO9yjp+CdpVrV1+Qd67v9er27XXy/Uq83Ap6hUAAAAAAIAMIooTXQEAAAAAAMhII18uIyqjDGoAAAAAAACQWWb+STbzk6AGAAAAAAAAmWPki2XsZjM/F4oAAAAAAACQOWZ+Ghv5KFptAAAAAAAAyBwj75exzmDm0WoDAAAAAABABpj5UQYjj1YbAAAAAAAAMsTMLzAY+d/QagMAAAAAAED6G/nBBgOPVhsAAAAAAAAyxMy/W4mJR6sNAAAAAAAAaW7ky6sw8tjVBgAAAAAAgDQ2808mYObRagMAAAAAAEAamvmJMqbo4gM28LN13xsOpQAAAAAAAEh/cz+FzfwIqAEAAAAAAADMPAAAAAAAAABmHgAAAAAAAAAzDwAAAAAAAMw8AAAAAAAAAGYeAAAAAAAAADMPAAAAAAAAzDwAAAAAAAAAZh4AAAAAAACQWWbeJaOujKM46kNpAAAAAAAA0t/MO2S0lHGdjJtkPC7jShkeGWEoDgAAAAAAQPqa+SwZZ8uYLeMYGRcJ7b5ppv40KA4AAAAAAED6mvkCoc3Evyy0mXj6uo6MI2X8CYoDAAAAAABgrZl3yqgno4uMTjLayCjS/Zxm31vIqJDRTIafv0+tNM1l3CLjr0LrlS/g37lVxptCm6Gn+/LKyJFRxvdFffaNZLTj2xBBGa355z7DU3fxY/Xg5+fX/SzC91HIj0HPK5u/V8TPHwAAAAAAACXNfB8Zw2UM5LhexlD+WRMZ58gYKWOw0G53royGMnJlnCDjRRmf8e8dL+M8GR/L+Jy/dxKb6u4ybpfxF77dqTLOkHGvjJ58u+OE1n9/mYyAbrBB93M2P4eJMkbxfTrY4F8l4yEZ5/MAgp7/DBmTZHTEXx4AAAAAAKhq5m9ig1zCRvhaofW+08z2OBn3yegtDuxYc6eMCWymabb+YRkf8qCgXMYAGc/K+BcbeDLTNFPeSsY0GZtkXCHjCP79uUJr0xkio7GMi2Us5Ofj4Nv+V8YUHlycxvdNPfo0Q09XAs6S8anQFuC24QHBQzz4aIy/PAAAAAAAUNXM3y20Baxj2awfyyabZstfENpMvZd/NyS0WfO/Ca0lp4jN/yviwEw6texMl/Gq4eHJeNMs/To2/oJv8zceDMRaa8jkb2NTTrPy1CZDs+w0217GA4TvZIwWWouN4NteKLR2n2k82OgmDm7HAQAAAAAAQDkzTy0vT8n4JxtrmmnvL7S2ln+yyY9Bvet0W5oFPy1BM0+G3MOG+0QZq/h3Ymb+NRlP6h6jFZv5cn48uv3pMiYLrRWHZvC/l3G50Fp9YtCVBLqKMJefcz7+4gAAAAAAQHUzT20w1Ot+JhtmMvS0qHU8m/nLdL/rFlpfOvXIn5qAmaffp4WxXXRmfqXOaNNt6KrAI1WY+fYyXuLnRFcOWrJhJzPfVhyYfaf7vFrGezIeFNriWif+6gAAAAAAQGUzP5rNPBlvalv5g4zbhDYz/ywb89gBULRjDLXdvMEmO2bmX9WZeeqtv4l/h9pyKnigQKZ7CJv5Ap2Zp5l5/TaWrQ1m/lKh9dBX8HOkXvqv+XmO4sFDiJ8vvS5aVPsiD0wa4q8OAAAAAABUNvO0oPV+ofWx0/7wV7FJpoWjtHPNg/wv9aDTrPwDMi4Q2n7ytAj1eaG13Zwso1RoC1bp/j+ScYqMMTJ6Ce0KAD0W9cyfJ7StKennX8h4X2itPWVs0snM06LcZmzSv+b77Cy0nXXoisFMGX/k50a/+x4PSnL5OdP9Uv98V/zlAQAAAACAqmaeFqVewmb8BP6XFp/STjI0804LYmlryKHiwPaTNLMe4QEAtbtczfdDu824+N/L2fTT96kFpgMbe9qV5iweLJCZv45vP0hoe8zTgGGq0Ba0kpmvz7e7gJ/fEH4u4/j2dP+X8f1Qa02Af4dm5sfyIAQAAAAAAAAlzTwAAAAAAAAAZh4AAAAAAAAAMw8AAAAAAACAmQcAAAAAAABmHgAAAAAAAAAzDwAAAAAAAICZBwAAAAAAAGYeAAAAAAAAADMPAAAAAAAAgJkHAAAAAAAAwMwDAAAAAAAAMw8AAAAAAACAmQcAAAAAAADAzAMAAAAAAAAzDwAAAAAAAICZBwAAAAAAAMDMAwAAAAAAADMPMw8AAAAAAADMPAAAAAAAAABmHgAAAAAAAAAzDwAAAAAAAMw8AAAAAAAAAGYeAAAAAAAAADMPAAAAAAAAzDwAAAAAAAAAZh4AAAAAAAAAMw8AAAAAAACAmQcAAAAAAABmHgAAAAAAAAAzDwAAAAAAAICZBwAAAAAAAGYeAAAAAAAAADMPAAAAAAAAgJkHAAAAAAAAwMwDAAAAAAAAMw8AAAAAAACAmQcAAAAAAADAzAMAAAAAAAAzD4CtccvomRP0PVCUE5yXG/KvzAn5NuZkeTfIf5fkhfzvyZ9Pod+BVJVr16Aw/HjdvKxv88L+VaRdJMu7PhLy/Rzwel6UPx8pIwdSHaqbz+O+Jz/b92Vulm8F59tGqeGygkjgA7fTORU5V3W91skNzj+oXrN8i7OD3n+gXqvWrmFR+EljvWYHfT95Pa7nUa9V12tedmCusV7zI/73kXNVa1cUCT6ir9cI6jVh7RrXzX66Xn7ou1OCno0zvK6dvQPuTZGgF/UKgK5QRmT53atbluRuueHsrvvfmjYkOvehs6ILnxgRXfDYudF/331a9Ik/DIiOHNiG3rRXORziV3mbsXxbW2tXlBscQx9obUsLdk05u2u0Mu3+eEmf/X3bl6x0u5w75W2my/Aj58QIn9u5vGndyLrJZ3XZHS/nRg1ut6M4N2uD1+VchpzTtPN7PBeEA561rRrkbY2Xc6TdeQNarUG9HlqvuWHfpsPVa+929Ze7nI4dqNcD9er3ulaU1cvZcLh6rZMTXC+1W4KcS75eaYDkcDhQr6xdad3sy6he2zXO3x1Pu/vG9NnTq229pahXYGdKwkHvvM7Ni7Z8OOPU6I7XxyYUb0w9YQ3N3svbz5VRalftinODP/doU3dvotrN/9PZ0aM7NVzl9Ti/otvbVTe3y/G/1o3yVyaTc3+7+aTdTepGfpEfdF/ZOeciQe/8zs3rbE1Gu9ennrCyIBL4yu71Wj8/69dk67XfESVLPW7nXDvXq8ftmtOuccGaZOu1tE72T3bPuZws7zddWxTvSEa716acsDg35PvCztqVFueUlhSEFvdsU29/MvXap339xU6H4wsb1yuwIRVBr3vdzed135Xom4w+tsy+ZO8ZfVrQpcGlMortJFw4EOiRG/Ztm35Bj2gq2t10bsUWn9u12oZvOBVul3Pl5LO6rk4t58ZELxtS/p3DIZbZLedIuyy/e/0t53ffm2q9nljR5FU71mvT4px+edm+7anW65ThXddLQ7/KjvVKr5tef6r1Oub4dl/ZtV5DAc+GW8/vvj8l7V4bs/O4I0tfsmu9FmT7d6Zar/T5Qp8zMPTAFgPfgM+19sXrjtuXSrHogw39u8I+lwRLyRi8NOm4aul228geuwI+9wJ5fyG76OZyOlY8O3HQhurm3BWndPzZ4XC8Z6ecIyNf3ZyjOKl709fsVK9FkUhTMgbV1e7W83ts83vd39mpXskQ/eWaQZurm3PaANxe9UpG3ox6Hdi54Qt2q9fCSGBXdbW7+bzum70e5zc2qldgQ9z0oXTnRb12VfeNJjb7wi03I+2gXZ3c4PJ7RvWOmqHdmX1bbAkHPM/YQTenw/H11HO6LTYr51o1yFtul5wL+T0/3HVxrz3maHfJXm65sYV29fKzVplVr6f3abbR73E9ZZd6nTai+3Kz6rVZ/ZzFdsm5cMD7492jeu03RbvXxuyMZPk/t4t2DYrCa82q11N7NVvrcTmfgOUDqjK+R5t668wollh8eMfQdfTmr7pwTYqzpw7q3Gi/WbqteeniaF62f7O867aq51zzktxvzMw5WvhEH5p2qNc+7Us2mand+7efsoTXHihN64b5t8p6/c3MeqUdSOxQr21K838wM+c+vvu0fXwlUmk8TucV/Y4o2Wqmdu9OP/kHofXPK02nsqI7jz2yNGpmvdIOVTaoV2BDQn6Pa83n958ZNfPNhoJmrOX9d1ZZO+qTN1u7P43vvy+S5XtfZd3kQG/5Z/cN22J2zjWrl7NV9ZyjdS1W1GtBJLBEde3yw/4dptfrZUftCfrc76isG7XD/e+Pw7abnXNNiiObVM85aq+xol5zw/5FqmtH7TVma/fwuKO2+9yuv8P6AdUY2qGscLnZbzQUl5zQfoO8/wmqCleU7R8+oEOD/WbrtuHl0dGw30OmVNVFTkMbFYW/tiLnrjy1Y7SsXmS6yvXatWXxOiu0G3Vc25Uq12tpcfi8AR0bRq2o1yyfe7PK9Spr6jur6rU4L3ijyvXarVXdDVZod/7A1otUrteurYrHWlWvQa97k7DfAmygMh6X87kHxvbbZcWbzXPXDIrmhfzKjoCb1c/58KFx/aJWaHf2US3XyocYr6h0z9wwvOvnVuVcu9ICZdu76DCUB8f23WOVduGA901VtWtXmv+JVfU6rG/zZSrX683nVXxrVc61bJD3uao5Fwl6X7Eq5/4ycdA+r9s1W1XtOjQtnGOVdqf0LPtZ4XoFdsTvdS2hAxesKJhP7x0WLYwEflFVu/zswAartKOV+26X41VFpVs45/4zVlqVc3SIjao5F/S5l1mVc3Q5Oz/b/5Oq2hXlBDdbpR3tAiYfYpaq9frlg2dttyrnmhRnr1U150IB7wor6zWS5fteVe2K84JbrdKOdlBTuF6BHaET0mhRiBUFQ6ex8eIwJfF5XHus0o4Ouwh43fMUlW6rlTknPwR2qppzdGKwldqFg551Ck9c7LWyXvkgKdRrkjlXJze4Q9Wc87icuyyt14BH2YGQ/PzbZ2W9yoeYAwcIlMHhEPusKBYKOl6Zjl1WeCD0m5XaBXyulYpKt9dK3eoXhPaqmnNOh2O/ldqpPPi2ul7lQGsp6jV53VQefFtdr7wzC+oV9Qrsjnyz2U0LQqwoGLpEVpAdWKPwrMs+K7XzupyqtjzstFK3RnXCys70yQ+4PVZqlxvyqzqAFF63a7+V2rmdjh9Rr8nr1qAwvA31mpp2OVm+5ajX1LSTD6H8tqjARvjczuV0ycmKgnlr2hCaJVW2YOiqg5XaORyODxWVbtHch4Yvs0q3do0LlB1A0tUaK3OuTm5wvqra5Wf7t1il3Zs3nbhbPsQHqtbrvEfO3m5VzrVumLdC1ZwL+tyrrKzXvOyAsnvNF+YEtlml3ewbjl+jcL0COyIN48szxx9tyRv1lLO7RuvlhWaqql1pnez/PPGHAZa82VxxSgfaHWOGotLNmjai27+tyrl+R5T8U+HZqtmPXXH0Hqu0k4b3IVW1a1Y/8plV9XrpkPY/qVyvMy7uOd+qnOvVpp6yO55JM/+6VTk3+ayuewMe972qate2tOArq7QbNbjdNwrXK7Apw3u0qbvYioJpU5pPvZA9VRUunOU578RuTS3pJ62fH1qmsHbDyVhZoVvHsqLoiV2bnqFyvfZpV7LCCu1aNcjbqnK9NigKjT6pe1NL+nCLc4OLVa7XVg1zv7BCtw5lhb+VNysYrHK99u/QYK0V2jUvyd2kcr22bJg/7uQeTS0x87zLXk8BgEIUeN2u9bQy3sxi+XDGqbHFOW6VtcsJeneYrd37dwzdzYtzVNWuwOEQq7599Jw1ZuccL6ZTOuf8HtcGK+qVd8ZQWrtIlm+n2dr98/ZTtrqcjiUq16vT4Vj93aPnbDY754pyAttVzzk6oMiKes3yu1errl1u2LfbbO3eu+2UdTKfFyuuHbApU449snSJmQXTtUXxjnDQc6HyI6HcwIzhR7UwdUeg5vVzyRiMUD3nypsW/tdM3Xq3qx/t0aZ4sh3q9fiujU3dp//IFnW2+T2eC1QXrrQwdN/Z/VuYusNI07qRRXao14qWxabOzvdqW++38qZFV6uec26nc+rJ3cvWm6ldp2ZFm22Qc6JFg9yHz+nf0lQz36goe6EdtAP2JOR1OZc9fdXALWYUy63nd9+fF/YvsMnIN0R7c9NJhib1Qa72uF1zbKBdyOFw/Prgpf2+MUO36Rf0iDYuzl5hl5yjhevPXD1wp1n1Ggl659tFu5ws7waz6vW6M45c7nI4PrNHvYpf/zT+qJ/MqteGReGldsk5v9e14tmJA01Z63Lzed13hYPeeXbRjjaaMKterz698y/yc+dTgVl5oDDl1G7zwYyh1ZplppNLwwEP7VVdYiftqN2GLn1W82jzbW6Xc6WNtCuny/fv3HryiurmXEG2f2dpcU6pnXKO2m2qm3OkXZbfvd5u9UrtNtXVjk6RdDkdK+xUr/L1rqE2hermXF62f7vdco7abcyoV3k/6zJZu6gQQ2SMSDSe8nhG5oR8u6qr3TNXDVxts3oFNqBAxlpdkPn+WcYoMvR/vmrgtlSK5e5RvfaHAh46JrlCYd3ozWCrLuhy5wK32z05O+DZluoMwq3nd1/ncTtXKa7dGs61WNDXv0pDvynVGb97RvX+3Rg0Lc7pp6huLWUsNOhGQXuajyJDn+oM/V0X99rDRl71etXrRq/3G6pXGoCnWq+3nNdtFQ+8VdZurUG71bF6ffyKo5elWq+5Yd+2cCDQQ+F6/bmSev2B6pUMfaoz9Hde1GsXG/mMzjlp0J+UEU0wFsgozg97T45Uo15vOqdiKRt5VesV2Jj1Wl39HnTITp/YDAK13FBPbqILTz6//8xo3/YlW7IDXjIdqs6OuvmN4L8ydrNuW9hotY1pJwcza4b1ab4jGe2ObF60zOtxfqOwdjF+0eUcHXbyHWtHM/SLe7cr+XbBY+fsS1S3AZ0a7amTG1xuA91msLGK6vIuthNDObXcnFDRZFUyOdenXcnmcMD7ow20+16nG80G/6SvV1r0m0y9zrn/jH2dmtVZIvP1axtot0in3a8yvtXX69EdGixMql47NNxVEAkssUm9bmbd9vH//79eqeWGeuiTqdeebeqtz/J5vldBOynKsASN/FIy8rqbltOmGmf2a7E7mXrt2LToV5vUK7AhZUI7MIHebLaJQ7doCsmYQrN+vdvVX077WtPhDXQa25bZY6JrXrr49xPUHrr0qP0Vrequp9k9j9N5hVC7D80v420ZV8qgGTmalX+BtTpIO7/XPS3k92w5pmOjjbRPbmXa3X9Jn+0dygqX82z8eEW1GyhjpO7ra2Ts54Hk0wbtfs85uozftWXxz38a339TpTk3rh8tdN0u39Q354YD1yicc1Sjz+hybyUPIjdUVa9yUL1SX6/0gaavV6ntOp6NVzXn/Iacu5o1owmLlyqr13DAPz3s92ytql7/eEmfreVNC5cpXq/6nCOmyPhNaFfQKq1Xt8u5tluruoseHX/Ulnj12qttva02rNfVh6vXgNe18ajyktWPXzFgX2X1+uDYvnuoXnk2Xpmck6YjR8a+wxj5RQYjf0i9DurcaKu+XvXa3Te6z6YjmhQs4atn4wV65IFCGBP6SBmH2weeLrUOd7scr9LJk3Q0tcPh+E0WyM6gz70sy++hD8ehlXxAqgINeFoavlfCM3yH2/njd+3CAe+bdAqgXjup5VKn0/msgtrRh1iF4QOurUE7MlUjDqebjFk0g+V0OHaTbh6Xc1co4F2RH/a9pnDODdP9n2q1s+5raiPakki90sFSldVrwOt5UVHtQgbdpuve62I5NyqRes3N8r1to3o9XM4lXK90+CDVq143OWhcbuN6HVzdevV6XM+rqp006p9XYeQXxjHyVdar1+HYT9rJPFzCAyuVvQmwEW42VzEmycipZDYhGej2aw33qxL0odU/jkkwGvpkKWbtVIZ0eTKB30HOHVynMe7hD6mqcijZnFupsHb6QXdbE3NO9XpNJudQr6hXswx8gYyxMj6pwsj/EE1et9j940RXoCQP88jUTPprNXPQjESmm0/9THLnFAY4iTKJtStTLM/mHOYDzaycG4MaTZqJQmtrGqaYbvR6BscxWGYxWdF6tTrnYvV6AeoV9SoTwc2718ySsVNn2rdXYuS/r4aRL+f7KBMAZDhkRIfrvrZidB97s/lfBuukn22nS6Bja+hxqYdyl8UfBjUBmSh961GpxY83QWjrOn5WpEaHxclFK6BTDvcKbdG2yPCaLTfo2NLix6TZ5R0K1GtN5xzVK7Uhfo96TRrad5/67P+tgIknc32PjLU6s75Xxtu8ANYvY6Vx15pqPN7TfD+TYAVBJqJP/jJx8GyVFXwqDiyabZmBetFM/PxaeFxaCLqRtXs6wwdAww3Gympel7GHTWkm5px+pohaQfrXYM7FdiPZkqHaxaCrZ/fUcL1uYe0eQc4lxZus227Ua9I5t4S125yJ2pEZlzFBxnzDjPt8/n6x4fefNMnI0+Pu5vuaC1sIMo2CWjCm23TmIFP602YZzGht9COSId0vDmzxlkkMr2EjZWSNOLA9XqYNhGjw+EEt5v1C1m2NyKx+UqrRuaL2eoff1OXcT8i5pFin0+5RaJdUvcbM/NJMqVeeYR/GM+57dQZ+Lc/Ml1dx22HVNfJ8P9MMgwe02oC05x5Ru6eXxWblaVvG9SI9F+r0N2jUt5afJ71RxfYapsv22zPgA03/QVLbW3rpc26TSP/FYbOFtWsIEs25vZxzMe3Wpbl2ww26laJeMyrnKqvXjahXNetV/pF7ypgpY6PORO/k3njqkXcncB85Jhh5GkysM5h5tNqAtKPYYEzJqObU8nNKtxkDt0ET2oKuPE3/nuk621Jh0HMYdEsY46Lpzmn2IZyu2lGehQx1W4a8Q85Bu7Q18KVklHnrSL15/oR3qSmohec0qpKFtGi1AWkH7Q0/HDJUCS1gnQgZqsUbonav+GQaboMJ7QtJkoZmzyZABuRcDWs3FtolZZZDMkbI+KCS01mnR2u5t5/bdPTP6ze02oB0mTWYCRmqhBYlPQkZqgWd7DgMMqTEYORfynU7BTKkxBDkHLSrYZPcX8Yzhu0kd/L3+qfJcxxcxX71aLUBNT5jMET3NV3uS/dV7DW9VRtpMtHwdaaOumtrmzvKKf0bcKnIrINJanN7QLp0PMGQf9Ausfe2CoOO/VGvyDlol57a0Sw7z7YvNRjjD3h2Pq1OU5XP590qzDxabUCNQzPxmXTkcE309JWJQ0+vVeFUvJrsh9TrRVd8RkC3hCkxmNIJ0C4lM/+2yOzj1Gcg51CvKmunO5V1jsEML+T++NJ0FEl3SFRVgVYbYCl0yW8gZKiS50X6LmLNBGjh9ELIkDIfCHwQpPre1hcyIOegXfqiO5V1tqGNZiPvUNMzA17DkwmYebTaAFMxHjxRAEkOgWZSxkOGajHdkFt+SJIwtChuCGRIGmqj0X/wl4ra38oUOQftQOUGuPPhTmXNoNcyUcYUXcQW6M7WfQ+bh4Bq4zd84A1V6LWZ8Vpo1n2EYYBjB/NpZh6QZvo9eocoPFA0u36KxcH93LSmoATaJYR+G1iapBiMekXOoV7TUztpaEvinMo6t7JTWTN4oDKFX9cIAYBJlAq1F1+k0tPnN7wZlyhuAszULh50CXEYdEuJzsI+l2BnmKzbu6hX5BzqNX21q86prDYy8w4ZQRmNZXSQ0U5GkQyX0Nb51EmDl0XP0cfPqy4/XyNOGbky2nCdNOffoyuk9UV6XSml1xMR2oSQMbITfK40YXkG3483zn1RhFkbPXSbU3lywBnvAaaJgxd6ocXh4D8MiTsbklQLame4BzKkBOXfAoEWkFRq+Em8nyHnoF1GGNrYqaxbKzmVdXBUYT2TNPNkkKn9+SIZV8i4QMbZMs6UcYKMU2ScnCbvv01kXCbjZhlHGIwxGVZaf3mljEuE9trPZrPbR8YNovYOGc1jLcO673n4e/Rcb5JxKZtriuH89+jDf5/K8LMWl7H5p0lhupJFux1O5fuI3d/5rEdL3ftIltDauS/hARBp+Ltx14s0XNT+yazpxgKBg4iqAyXuMMMHXClkSZjx4uC2I6xVSYxyw3vZEJgq5By0S1sTW8pGtrJTWUdFbaJjEmaePldpYux+oe0keDa/55FRPl1oE2Z/l3FtGrwsukpAVw6ul/GjOLBOxMHv0SNlvCy0yeSj2bh2kzGOJ2HIg9WtwedLz6sFD4Sonr/gwYjezB8ntPV9e2Q8xgOnk2ScwwOWZ3hwlVXJ/Q/k11WPH6s+35YWwK+XcTE/NgUdrPdXfox2rKXg29Lf/djYoGGGsO+hO0OreDPWL4YLCZCodvqRuP7/OEAsMd1ib9J6EzoSg8mEtdND720VkC0h7ZBz5tZrMaQ7vHZ8KuvIOKeyToum/1k1tWnmaUb+KTbsPdgUxgiy/h+liZmPGWR6zl/pzHyADSuZ5TsNdeTggfDdMn6uBTNPrT60QP0BGTvZ3Bshn7ifzbe+3SWbdf+O/w4ug5+cJbRZd4/h/h6SsVxn8mPPhQYFG4U2a6/3o2ewya9n9zebWE9fKf/hYvQVmDlOVLt4vCuwJWcqugmenRgFqZLWjq4q4mTW1LSbxiYUpFav0C5B7Xg7ycpOZd2aTqeyZoCZpxYLmrGeZDCLQudrbjSY+Vgffchg/vUm1nj10mn4npMHC7Feb5/h9l7dz4z33cZg5mnC4HUZ38hoXcnzcbE3m2Mw8w4eCETivHaH7vsukdoVWSff9sQUzDxB7S//lfFvGfk6vWmC6RODYY/xoIxllfysi4x1Ml7g+41BaxA+FFpLj23R984OhnmqNqRhf8PoEyRGOUxoShSIg7dsK0DeIeegXdqa1Iw6lTUDzPyzQtug5Jg4P6f2jn5Ca78ho0kLYY/m3yczfbzOIIfZENKglGbKPWxATxParHAP/j0yz735fvqy0R2m81RUG4OE1vpBtz1SZ6qNZt7N97tWaOsQPXFeBz2PW4TWu073kc2vgZ7/AKH1rrfn1xhgL0I969TK0l3GUUKbHR/AAwwa5FBLDK0rOInNsYtvdyY/f7fuOadq5onpfNveOh2o1egxfq7iMGbewc/vOhm/Cq3tKGgYcPxZxh/s/Gb8Md42qoVbHHz1oqfATHwy2vU1mFC0gyRGyKDbREiCnIN2aWtMD3cqK1q5Ujfz/xFaG03rOD+P7bjSiM06GdUX2dxfKLSe7nE6404GmGaR3+aBAPVx09WVeUK7+uRlc/wgG2gy/1fJeJUfi3rKqZ32dv75LfwYreKY+SA/l80y7qviddLza8b/0vOinvRH+LZk0GnR7B+FtlYgzMaW2lveE9rC1LOEtoD2Y74f+r1bZSwSWptSMd/3rfz6LxEHripU18yTzruF1rodG6y8JrTFyt44Zn4169eN73+00K5MUAtOSSWPcy0PDmzzZjxbHDwb7xZq7Zlf09ClvSchQ9IM1eUjFmMmrx2dBowF+slzOnIO9VpDZvT3U1ml8/jMsJ0kncr6cCacypohZp4M3gdsUA9HIRvIZ9gQUnvGZKG1w8YWFtdlAx4z84LN91/FgV0Oh/PPaca9Dj/2VeJAP/zfhLb7ChnOjvwcL4pj5ukxLmAzf0cCr4FmtmkG/hO+z9jMNT0PWjz7MP8OzdzPYkPfgn+nlE3yEP6aNPhSaIuHY/dN/efXiYOvEFTXzJ/DZn6yzrzT1ZRhovIrEWTm1/LrO5V/7xp+PTTLX17J+xDp/Zbqb8L61e99KxFhBt46EsbPReyGdilBxVgB3ZKGTlTurMs5GKrkcw71inqtCRNKp7LeHzuV9coDp7K+kWmnsmaImaeFr9ST3SnOz2M7xTQRB87HofdTmvUdxObwE3HgCjuZ4hsMZr4VG2XafpF642kmnGavX2XjT+3Jx/Nj0YDhQo6j2Yj+hw1yZWbex0Z5k9Bm9B1xXoeHjXQOG9cVbOpj0HOltjeaaadWHJqdp9aTf+gMP82+L2ZzLfix6TY/8CCGWl7uFoeulayumb+UzfxonXn/mTVzxzHzxp55GmgM5Imsp1lnvVan8qBOKbOpn7Gjyxot8dZQLfobBkQVMFMJ01McfGkel5MTo9hQtz2hHXIO2qWt8aRTWSfGOZV1fBS7+lhp5mn3l29E/N0IvWz0zxIH9nGnFhjq2aZWEprJ/lQcaGGpzMxTC88rbOZdbHbptk/IeEfGZzLuFdpMP/3sDzwApv3Tr+CfT2bf4DaYeTK/tNUibVX5T6HNqFcG9YxP5M+Gq9nMN9f9PMg/pxntWEsRmd4XdYY8ZubP5e/RY9Ms91IefLRmPYWJZp6+pnagDUJbwBr7+Y88oErUzAv+3fdlbBEH1gfEOI31UwbsAGIO+gSjVpq2kCRhCgwDob6QJGnoitpYyICcg3ZpazbpVNbhlZzKulLVU1nT1MwPYbNMWyfmVfJzMoTUFjOIP8fpahO12TRk4zyazTxd+ezAhvx6NvOxtUnUX/4PNvP0PVqwSgtKc/g2ZK5pVngAm+Kvhbao1MOGm352Mw8YisWhu9nks/mnWefjxaGz8y6+zZ08wKCBCW3d2F33O2H++Y/iwMz84cx8bBDwIhvhiaLyXZSqY+bpqsa3/Bj6veY/5efhScLMk/Yf8cCgXBy8gw+15LyayTlPs8TVPUUUPfMHM1YkftQ4tDs0H2dDt6QpE4lfIoR2qeUctEO9mmEykz2VFdpZa+bJ8FE/9d/YSJewQaS/Qx021dShUMim8zM21tRSQq03d7GxJMN/ORv0sWxu67MpphaO+ULrLW/CxvF+HgjHZv5pgEC710xnM9+YzStdCaD942lx5gX8uzRgpl728/l3XDzQoFael4S26DPE36dui5b8nE5ls0wDBGovupGNe2wHHdLgDr5dI67tt3iwQL9Ds9kr+HXGTnJ1s0Z0SNNz4tDdlHysHRn1XULbGSifb+fgxz+VzfxE/l36eQMe9JBOdPWii8HoUwvQDeLgLT09fHvaoWg1P98Cjkas1088MDAenkYT2fdmUo6T0PqZ9xw2AtXB7v2QJQZNQyLxNhq7a0c6PS+SbztCD67Wt+k25CG0sy7noB3qNVVjGTuVdVGcU1lzoF2tmfnYQk4y7I+y6SVTTTPM1HpDM+8ddZMm9PegXWNoZv1ENt9/ZiN6GhtKMqFP8dd0P9eyuX+Oje/5XEdDeIBwOt++Lv+cZv/PZdM+RmgzzWT2L2PTTT3ktOj2enHgqr+Hjf4DPMA4nR97ID/eaHFgvQUZYDp5lVqETubXchm/rkY8UBnCAwN6LoN0Zph6/W8VB68xIEP+vjj0ajBp25Dvi3SihbzUNkRXD3L5fWQQm3IawNzJr38Iv366zSM8aWCcsR/Fgxf94KGYb/sCD7rO56/pPkey/g+KQxfAknav8u+nNWWGN2Ps7WuOgY9RIHDYSTJ0Fgd/eA0WWEOQCH5x8OK3iQJH3CPnoF26msnYqawfxzmVtQwqpYWZj0Ez3F3YkNJ76zg2xKUG/9SQDTAtAj2GTW4PNqj5uvvqzoaUrqz04p9fwAMFah3px/dzFn+viG8b5NvS8z6V668B/78Lew8ypyewIde38Dr5M4F+fg1P+NBg4Ghx6MJpNz+Ps/ixTtQ9/wA/pxP4eR+rM+XH8/f1B4S6WIv6lZj5Jnzfx/N7x/H8dQ4/h8Gs0amGoNdAVxjCcf5e1K5DC4Ob6ox+TJtTK4mTeeCULQ5tQ6L7ek9kQGvbGwInsZrNfIHDOVJluuGNACTGTHGgRxIg56Bd+hlI2k5yYJxTWZ+0+6msaW7mhcEUOzJcAociryMeNBC4nwcrvmrcD2lEe+zHDtRKuzff4TX4eHbo6aOrGRXQLiWGC/OvBtlBt77CmkWsyDloh3o11zi2jXMq67smnMqKnvmaN/MgM6BFvbQjEC0idqU44KG+epooO0KkwRVHMpn6bZWKa/hJqdjTR5dr9Jdc6P8F0C4hCgyDSfo6BN0Oi98wYKQc7IycS5ucg3bQTW8Wa+pUVvTMw8yD+GacBrvUhx9O4fbUDkXbgFLbUCAdPvSpZ6ov/q6mQu0M6INPnJDBDEyEJCmZqlmQATkH7dLWINJ2kkNkzI5zKmsFVIKZBzUKzcjT7kDFIvmWogY8kVGjLdPGXSuex9/QVGgx0seQIWVof9scyJA0+pMDAXIO2qWnMTzoVNbowaeyDsWprDDzACTz5puuCy4ztadvkmGQVADtEoa28eocZ7AJ3eJD24SVGwbmyLnMyDloZyPddKeyLqjlU1nRMw8zDzIYuuyp33IonXdOyZSevpBBR/qAy4F2CUEDnZa6r3uK2j2qPZP6SPWDRGrfqkDOZWTOQTvFddOdyvpuJaeyzqilU1nRMw8zDzKIlgbz3lfU3MjfLmBrv9QZyoMfkByUbw9DBuQctEtr49c3zqmsz8c5lRXAzAPw/4QMb764nGYuffGBljKlMj6ADElTwINGgJyDdult9srinMr6cQKnsgKYeQB+hy57zlbktaTLIMTPusYwbi8J7aqG9jTXz0CVQbeEB4163QYj55TMOWiX4bpl6KmsmOSDmQdpRMhg3t1CnUt36dLTR7Oiz0O7hHGLg3dhmCRqZxFwJucc8bDIrKPZkXPQzja66U5lfT7Oqax9oR3MPABVYdy/sr9A753ZYGu/1KF2EMz6JA+ZqFGQATkH7dLazLXlRauVnco6PJrem0oAmHlQi/gN5n0ijKbppMPWfplKT4MJxcAyMcoMJqoA2iHnoF1aGrgC3jZyrsHALzD5VFYAMw8Uhi6HDbfh67Z6tijH8FgV0C4h3IaBT6k4eE0BdItPgcHMj0DO2T7noF0a6sbbSQ6t5FTWtYqcyoqrMTDzANTYIMbKN7KZ0C5lQ/o2dEsaurq2SKg7E4qcg3YZrxuZ9Dinss5W7FRW9MzDzAOQcdAHGvblTh0yA6WQIWnugW7IOWiX9gbtcKeyFkAlADMPQO1Al0H1s6C4rJg4fcXBJz2WQZKEKDWYKNIR+0oj52pau5aQ5LCmTH8qa7SSU1nbQiUAMw9A9amu+X7GxoYgFe30l49pjUZP6JY0tLBwGHIOOQft0lM3PpX1yTinsg600amsmNyCmQegRki2p2+CwNZ+qWo3hAc/0C05yEDNgmzIOWiXvrrxqazT4pzKOtKmp7KiZx5mHoC0oFQcfCombQ/mhywJQR9e9+i+VumwMSsJ8aAxBuUb+mmRc9Au/UxXTpxTWRel8amsAGYeAFugN+vU04iZ+MRpaTAAI2AIEjZSep2mYNCInIN2aWm06FTWwRl8KiuAmQdAOYw9fapv7WeldsTzAou6UtGNdgapgDTIOWiXnrpJY1XOi1ZXxjmVFYPvxHIOwMwDYDrU00ezoPrT9fCmnLh2Y2WMhBRJ60YLWIdDCuQctEtrU1XQX4h/xjmVdSJOZU0o5wDMPACWUGAw79QTXwxZEoJ0G6j7ulRgW8REII30M+/U3oB+WuRcTWjXH9olZaRip7K+UcmprPdHcQUNwMwDkBaMFyiSZNC3HNEl+QmQJGlIt3sgA3IO2qWtgaJTWR+OcyrrELTRAJh5AGqXzjKejPMz9PRVTWwNgR/aJQXptQC6IeegXVqbJjqVdVIlp7LO0Z3KCt1SB9rBzANQLSM1wvB1aZzfRU/foUwUia0hgHYHM8KgWzF0Q85Bu7QzSqE4p7IujXMqK3RLHWgHMw9AUhj3RL5f4LJoouQYjOcQgYVdieZcjsHMow8eOQft0tMg4VRWADMPQJrzhrDvMe3VhdYQYIeL5Jkg0I+MnIN26WyKYqeyLo1zKmsIKgGYeQBqD9rdYoju61Rn4e3Y00drCGaacD920452oLkHuiHnoF1aGyE6lXVUnFNZp6RwKiv6vpFzMPMAmARdAtW/CZfzh1x1mWET7YYZBj5toV1CuvU36NYXuiHnoF3amZ/YqayzKjmVdWY1T2VF3ze0g5kHwCTow2wWZEjaFMR4WOCScio8D92Qc9AubU0Pncp6j+FU1r04lRXAzAOQPh9sb+MDLWVmC3Nmke0GbWE6EDIg56Bd2hqdYt420ngq63ycygpg5gGofejDTL9LQ7mwfoeBoQppZ8YaArtpV2Ew7wXQDTkH7dLO3BzuVNbO0C0tgXYw88Am6M067dLQuYYfP5N7+koNA5+e0C4hCqow89ANOQft0sfUxE5l3RjnVFY3dEtroB3MPLABlKg44j41aA3BbMiQNLQjzQeQATkH7dLWyMROZV1YyamsY6M1c/UMAJh5AOJALTT6fbnp0jIO6kgcrCFIDSxiRc5Bu/Q2L3Qq64g4p7JOj5qzmw8AMPMApEipwbyPSrPnl849fT3FwWsIOqfZ4CddtaMWBv3sXV+RXrtaIOegHbTTTEv/OKeyPpNGp7Ki7xvawcwD2/OJ4QMu3Ui3nj7jGoIKaJc0k0R6nwaMnIN2ttVOGpSWGXYqK/q+oR3MPLAdZKSwtV9qDBdYQ5AKw6Abcg7apbU5KeBTWT+JcyprKVQCAGYe1B60p69+NooWGGKBUmIY1xDQjBTWECSm21jd1zkCh8Mg56BduhmSw53K2hMqAQAzD9KDvgZjlWnUdE+f/kATP7RLykjpdZsA3ZBz0C79tNOdyrrWsJ3k2zKGZeCprOj7hnYw80A5yFTNV+j11HRP3xyR3msI0lW7OUKdkx2Rc9BOKe34VNYJcU5lnZDhp7Ki7xvawcwDJaA+eP2ipBxIkjATBdYQpALNvPeHDMg5aJe2hsPPM+2Vncp6T7TmDwAEAGYeAB0hg2EfKdAHnyg0A6X/EGsL7RKiuBLdiiELcg7apZ3R6FnJqaw7a/hUVgBg5gE4DLRDw3CbvFaze/r6iszuq60t7Ui3CdANOQft0k87m5/Kir5vaAczD0AaQTNGPYtyw4/UK8z9riASWh3weXfkZmdtLMgJLZfxvvz5FJHcLguqrSGoUrtWTeo9V1Inb4HUcC1plxMObsiLZC0KBwMvC+0KTg50O1S3gM9zb3F+ZH5+JGvV/+dcbnhF3cKcj/1e9zTkXHzt6hZEHqV6LcwJr4lpl5+TtQz1mli9NizO+z6VetWdyvpBnFNZW6pcr3ULcr4xqV5t9flarzBnJn1G6OtV5tzSvOys91KoV9toF/L7+7Qtq/8i1eup4eCmGT7Pzj5Z/s252cFfAn7vi0l+vgKgZqH4PZ4Lwln+ta2b1Ns2dczJ0b8/NCE6b9bN0V/emhH98fXbov/98/XRp6ZdGB11at+t9MHndDoWC23GrrJLxnZaQ+AuLSm8LD8S2ty+eYPd8bR74Npzov27tl7rdjl3yttMF5XvWDHRoJvKs3mUNyPkh9nKZo3qbJwyesjeeDl3ybCj9kjjsNHndS9Hzh2o1+yswLo2Tepvr6peLx7aZzOZBtSroV5zwlvKWzTYW1W9Ht2lzZrK6pVPZX3GsJ1k7FTW/oq20fx/vbYoLd584+iT9x+uXr1u17Iqcs5Wn6/hoP/CSCi4vm1Zyc6q6vXCk/tszM/OWuVwOH6Fdpp25S0aXn24er3/mnP29zuy1UqX07mjis9XAJSmJBLyz+/StvG2j564Lrp7zmMJxd8enLCJZmbk7efKaC3suYagpH6d3F97dmi+N1Htvnv11uigHu3WBbyeefL2LSrRzQ598CUet2tO+2Yla5LJuXceuXJf89LiJfKD7is751xedtZ3Fe2b7kiqXh/4w/qivMg8O9draXFOaYPivCW9OjTfn0y9HtOt7Sqvx/3VEiFureRU1g/S9FRWU3NOvv7Py1s2XJ9svTZtUGcR12upXT9f8yOhBd3aN92ZjHZvPnDFyoKc0Fdcr7bUjuq1tH7B8mTr9eiurZd73E7SrUQAYBMqsgLe9dMvO3Vvom8y+tj+6aPRs4/r/k95P1tkXGIn4Zo2KuiXH8nafvv406OpaDft0qHbXK7fZxHG2S3npJFfdeOYk9enmnN/OGfgQodDbLVbzpF2oaB/w23jT9ufmnZ/2nvGsV3/Ydd6LcwN7Uy5Xi85ZctMp3MHG/iFNjqVtcLnca+m159qvY4/c8B30tAvE/ZbsF+RnRXYVJ16HdK346vyfpbaTTs5+BlUlBvelWq90ucLfc7A0ANbDHzJyL9856UpFYs+2NC/K+xzSbC0ICe0o7ra3XH56btCAd8PQu1ZvYN0c7ucK5+7bfSG6ubc1SOOW+xyOP5pp5wjI29GvQ47puvf7FSvRZFIUzIG1dXu8XMH7R7s9fxqt3p98Y5LdlY357QBuOM9O9UrGXkz6vWE3h1etlO9tm9cr4Ws193V1W76+NO2+byeb21Ur8CGuLP83u/vnnDGruq+0cRmX+oW5FDRjLSDdnULc1fed/XwqBnanT24+45wwP+MHXRzOhxf33LpqcvNyrm2ZfVX2SXnwln+H++96qz95mj3p73yw/Jru2hXUid3jVn1euagis1Bv/dpO+jmdjrnTb/stDVm1WvL0nrL7JJzkVDgJzPrNT+S9aVdtGtYN3+dWfU6bGDXDR6X6wlYPqAq43t1aL7OjGKJxUdPXLfO6XR8rbpwzRrVmXZsz/a/maXb+n89GKXFPULbv1vpnGvVuO53ZuYcLXzKDvkX2qFe+3VuudlM7T58/JrY2gOlKW/R8I7jerWPmlmveZGsTXao13bNGiw0u15pEkn1nPM4nVcc1aX1NjO1++ejE3+wQ7326tj8frPrlXaoskG9AhsSCvo96758YWrUzDcbCpqxFmqfahiiPnmztZt5w/n7IqHA+yrrJgd6y+c8N2WL2TnXvGHxNtVzjtrhrKjXovzIMtW1oz55s7V7dPL5e+R76Dsq6+ZyOld88fzUXWbnXNMGRZtVz7lwlm+jFfVakBNarLp21F5jtnaPXH/edp/X/XdYP6AaQzu3brzS7DcainFnHk0zVsoebFRUkD18QEWb/Wbrtvk/D0fDQR8t6FR1kdPQxvUL51uRc1edd2y0RZPi21Wu14p2TddZod3o0/qtUrle2zVvePEx3dpGrajXUMC3ReV6LWtY5zur6rV+cd5NKtdrz/Jmm6zQ7sJTei9WuV67tisba1W9Bn3eTQInpgOV8Lhczz143bm7rHizeeH2MdH8SOgfqmrXonHdjx65fkTUCu3OPaH7OvkQ4xWV7pmpY0760qqca9+8wTxVc44OQ3n4+hH7rdJODiLfVNbMNyv5xKp6PevYbitUrtfbxp/2o1U517Jx3c9VzblIKPCKVTn3/O2j9/m87tdU1a5z69IvrdLutAFdFilcr8CO+H2eJXTgghUF87+/TIkW5Wb/oqp2hbnhjVZpRyv33S7Xq4pKt/DLF6autCrn6NApVXMu6Pcus7JeC3JCP6mqXVF+9martJt159h98iFmqVqvX8+aZsmED7VQNCkpWqtqzoWC/hVW5RxpJwcLyq45KC7I2WqVdrSDmsL1CuwInZBGi0KsKBg6jY2OplZ2IOT17LVKOzrsgg+SUpGtVuZc3cLILlVzjk4gtVI7OkVWVe0CPu8+K+uVD6ZBvSaZc8X5kR2q5pzH7dplpXZ0SjvqNbV6lQ8xBw4QKIPD4dhnRbFQ0PHKvNODqgOh36zUjo5KV1S6vVbqVr8od6+qOed0OvZbqZ3Kg2+r61UOtJaiXpPXrW5BZCfqNTXtVB58o14BSO7NZjctCLGiYOgSWWFOeI3Csy77rNTO63Gp2vKw00rdGtbN367wB9weK7XLy85aiXpNTTu30/kj6jV53Urq5G1FvaamXU4ouFxV7bwe934rtZMPsQAOECiDz+teTpecrCiYvz80IVqvMPc7VbWjWUwrtZMP8YGi0i36+uVpy6zSrV1ZyWpVc46u1liZc8X5kfmqakfnN1il3Vv3/2GHyvX6zSu3bLcq51o3qb9C1ZwL+n2rrKxXPjxKSQpzw1ut0u71+8avUbhegR1xOBwvz7zh/C1WFMzUMSdLM58zU1XtGhTnffTUtAstebO5fPjAX+VDzFBUulm3jhv6b6tyrt+Rrd5TNedoUfQTN43cY4V2N44+eX9OKPCAqto1a1jnM6vq9bIzj/5J5XqdccUZX1pVr93aNVV2B6VgwPv6kzeNtKSVdcroIXsDPs+9qmrXqkm9L6yq14uG9pmrcL0CmzK8e3mzRVYUTJsm9andoaeqwoWz/OcN6dfRkn7S+kW5yxTWbnhZgzqfWqFbp1al0T4dW52scr326dRiuRXatWpSd6vK9VqYFx558lGdLOnDrZOXvUjleqXtI63QrWOrRr91atVosMr1enSXNmus0I537VK2Xls2rjfulP6dLDHzvMteTwGAQhR43K51tDLezGL56InrYotz3Cprlx30bzNbu389ce1ul9O5RGHtChwOx6oFs6evMTvnivIi21XPOb/XvcGKeg0F/WtU1y4nFNhhtnYfPnbNVqfTsVjlepWvb/X3r03fbHbOUSuF6jkX8Ho2WlGv1MKjuna54eBOs7V7f+bEdfLz51fFtQM2ZcqxPdstNrNgKto33eH3eC5QfiSUF55x1nEVu83UrqxhHXqjGaF6zrVv3uBjM3Xr3bHFbz06NJtsh3o9sU8HU/fp79KmyVYb5JyoX5h3z9mDu5va9lBav/AnO9Rr59aNPzNTt14dmu8vb9HwajvU6yn9O683+YrGRjvUa1mjogfPOb67qTsCNSzO+94O2gF7EqJtmv5880UbzSiW28aftj83nPWtTUa+Idrrl04yNEO7yRefuNLtdv3PBtqFaHbkwWvPMaUX9/bxp0cb1StYZpec87pdy5699eJtZmh367ihu8JZgXl20S4SCq43q16vveD4X10Ox2d2qddHJ5/3g1n1Wr9O7q92yTnaaOIv00ftNKteswLer+yiHW00YVa9Xn3ecT/KPP5UYFYeKEy51+Ne/68nrq3WrBWdXBoK+ul0tRI7aZcd8G2nS5/VPZVODqpW2ki7crp8/+rdly6pbs4V5IR22CznOvk8rk1m1Ks0BuvtVq/UblPdev3L9NHrXE7nCrvV61/vvWxNdXMuLxLcZrd69Xvcm6ubc3TScMDnWWu3eqV2m+pq98wtFy+V+bvcZtoBmzKYDH2qM/T3XHnmHjYGFYrr1FbGcBn3yaCtwajX+MJw0Lc11RmEWy87bRUbebto94gMmg3eIN9g1z0y+bwFqeh239XDo3nZwW3hQKCH4rq5OTcmyvhIBn2gX0j1muoM/d0TztgV9HvW2SDnRFSIHBn9ZdCer7M+cTpfpPUuqdbrtEtPWcpG3ob16lz/+JQLFqVar7nZwa12rVda75LqDD3VKxt5W9YrDcBTrdepY076xSb1CsCBUTC13FAPfaILT758YWq0b+cWm0IB3w/y9qUKa1Mmg060pf5i6lncz3FWTLusgG/1aQOO3Jyodl+8MHVfp1ali6Wh/doG2pFutEB1p/Z+LfbIGEa60SX8Xh2az/vhr7ftSjTnBnRrs6swN3uJ4roROTJ2y9jBmv0mY3ws56jl5oTe5cuTqVep9bosv/d7FbUzGgEZi2VEdfGxDD9pR4t+Tz+my9Zk6rW8RcNfbFKv2zjndhnrlRb89u7UYn4y9Xp0RZudeZGsRTap1z2s3T6u11GxeqWWG1rzkky99uzQbK3f5/nOBvX6clX1Si2tZwzqmvAi9i+en7qrXbMGC+Xny1c2yDsADiEkYwrN+sk3kcWP3XjBdjq8IXYa2/p/Pfj7CWoPXXfuni5tm6wJ+r3r2FzYoQ/tIRnr+MONPuyeNmrndjqnSqO0mbYkoz2GY9pt//TR/9fujxOHb5CmYCnPxttFu2f4w420o4Hfw8aco8v4R7Zp/MMjk0asqky3R64fEe1Z3mxTdlZgUyQcuNomurWUsYJ1o8Hj6/HqtVfH5ksev/GCnZXV64PXnbtLaruKZ+OVyDkpSEhnBF6TscxgBIyxUEaxXju/1z2N6rV/19ZraV/ryrSjem3XrP4im9XrC7p6nVdZvbqczjVd2jT58dHJ562PV6/djijbEM7ybcwK+K60Ub2uZt1Iv1crq1eapadtZquq106tSlf4fe41itbr66nWayjg2zKgos36ePV6z1VnraZ65dl4u9QrAHEpkDGcDpaSbygrpNHaLf+/T36g7Qz4vEu9Htfz8udD+c3JLtAMwSKedfmev46rnc/rfo1O7aRjvaV2++W/O3xez2I2tnbUjj6YaEu1r+Jo97tuMmbRjDPn3H7KOTloXBYOBl62oW7EFKFd0VhyuJyjg6V09bo/Vq8el+s51bRjc7DgMIYgFhujmtFKqF498r0O9fr7xMWyVOs1K+B9yab1OlVoV9N+TaVe/T7PEtTr4etVDhDfMNar9CW/2rReAQAJGKmxuq+p726z0C5FJwrNLqy1oXbThXZpPgb1ym5KQrsc1s1vQ92G676mRVvbUsi5laprRx/4MrYexhjsldE3yfudgXoVvVGvKemGekW9AgDSDJoFMF6mK03yPiZp7zdJvbmrQEk1tevPuo2BbqI8yfugxXf7DSZDRXPglvFkHFPwG/87Isn7LOfboV5Tq9cLoRvqFfUKAKhNaGZkvjB3hoTaS+iy61DFtaOZuU+EeT2KE4Q2w/ULdEuaJWwOPlHYGAzkvtrKjMF+/ndaCvcbMxuTkHdJ1yu1g/0I3ZJmKdfrv1GvSd/v0zapVwBAkpi5F+1AoV2qphmrZ2ygXamJ90WLPWkR2V4Rv38SulWec4s557aqph3NwMl4W2cEFvDCujcMBuH5FO67WMZuvv1c1GtS/E0c2PkG9ZpcvS5j7TajXlGvAIDUoMt6Uyy67zeENuMSZYOlGrSeYLxF972WdVNxIDTKQt1mCe1qBulGh7gp0U/K29hN557a2CK58VGeIeUFdj8btrRL9jGmGQxGGeo1Ydbp6nUmdEuqXleybittVq+LUK8AALPI4TAbWtREM8t0mBbNkG5TULtii7Tj9+rfZ6o2sSn1Q7eE7ncv51xMu3WZrp1MhOEyVuoWyM2MautZjL9HC+zmGra0S/Qx/DLWGczBJNQr6rWG63Ut6hX1CgBIjI9FCm8g1UCV1fZu1i4HuqW1bkpoJz+cO8v4xHCITOfD3Mad4mONqqSXdy7yDvUK7VCvAID0BJfjUqclJEiJtpAg4Q/qYp7Ni31I0yzfcIsfM94e2GWoV7zPgbSv19/QagOA+tC2aQ9DhpQYIqxbU6C6btMgQ1If0G4+IXIjfzDv5L7bkMWPO9hgCDL50j3qFbrZpV6jCtQrACAJ6M2lpBYfP5O3paRex2LollG6ZZx2vHWdfrbtjZqaZZOP824V5mAu8g71Cu1QrwCA2oG2ukqX1oZM64ecXcuDH+hmE+1467rZhq3rBtbg45cncLx8GfIO9QrtlKlXr4w8GfV5AEeTfU4ZPmHxVYUkcPNzyZbhqeTnDhlBGXU4hwv59+h1RPjfdIGeKy3qDlQS/gSfa5bQTpEPsTaBOOHjx9MTltGV/3XAGmceLYW5B3vYiXJoB90s/lAO8dZyO3Vb102I1rB+VZxImUmX7pF30A31evh6pedaV0Y/GecKbYtg2pr6GKFN/HWTcVQayO2SUU/GKfz8mhh+7mN/c5KMi/h1nMHPvzm/tnAtPXcaYLTi56jXnZ7bsTJOl3GcjN4yesnowya9SRW1SIOUk2XcLrRF6YV825P5/vrx1735/0fy78QGCRG+7RB+fiDNoWJ8EjKkRIWM+yEDdKuhD2Taum6p7sP3yWgttTjIx50oY4ouPuDnNFv3veHIO9Qr6jWj69XDBvh6oV2RmczGnczf5TIelfGCjIlpIDk91/ZCO6/hJxknGMwyrQF8lp/v2UKbdSajegfn99eiZv8+DjbPbfh5vCejkWHwcbHQzovZzfpfxnGjjJdl/ElGd1H5VYgjZLzG90mP1Uxo5z5QS9Vmvo/L+Ht3yviA/871dYaertZQt0ZnDODTH7dI3x1D0r0fMiTSc/cG6KaQdrx13cc6U0Db2FWk2XOcws9tBPIO9Yp6VaZeaeb3LqFtOXqiOLi1g1pZLpTxVZqY+ZhBpitHX+rMPLUH0Qz0f9jMFxl+n8zrizwAqEkzT1cS6OrGvWzU6Vyd5pX8Hs2c/8Za68mX8ZiMeUKbVXcYBgL0s4sqMfqPyFghtFYjh06Ha9jkjxNa602McZwDebDL6cd0HqWmO+nYD3k/v1lAN/V0Syvt6MAY3rpur27rurQ0y2ls5lGvqFfUa+r1Sj9fIONWUfnMbAs2ehMNBtnL4YhjuJ2H+Z6DTaifTa+7EiPs43+N99PeYOapRehpGT+w6TVCj9OHByVGM+8W8fvTHbrX5xSp9ds7+TFOqsLM94pj5gUbcvr7vC4OboVpLbQrDQ0r+RvQDoXLDWae6CC0g+toxj+i+34DGf/NkPcD29FWqHXSYE1SDu2gm8UftLR13Vjd1nV7eeu6nDR+zulq5pF30A31mnq9PsYm9/g4P6fXSD3YY9gY0lWcZmwMu7DZjy2OJfNdKqMTexAXG9A2/L3G/HuUd03YlHcUWrtIJ525rsu36cKPU09npI1m3sUGfrWMt8TBPel66vJrLdQ9hzKug85sjuvoBhnN+fst2Ow248dtwo9JulAPfDv+ndiAoDm/9jLdc3ZWw8zHBt67+PFj5vwKobXHVFbDRjNPQTPx58lYJbStobMMAydq1xmFaq99aLQ5CzKkRJnAXvvQreY+ZPvLmK+7RP92JhzokkZmHnkH3VCv5tXrv2V8KOK34pIRLWLjSoaQFmnSLDj1Yd8g4yWhtUKRIaR2lhuFNkP+JhtGMrqvCK3FZSqbdTLQf2TzeJrQ2lD+yo9HO9Dcyt+jnz/J/y+OY+ZpsEBrATbxfcbDzwMDHwetCXhCaIuCz+Hb3simn7ZjfUjGUhmvCq3P/FoZjwtthpwGF33ZTC8UWgtNKetDz/cLoV1R8ptk5mkgtY/1iF2pIN2vEZX30lOdr+TXS3pSTz0tsp3Dz7+JOPQqA/1tHkTFpwcVGfic06Ef0p2B2qWLbj2Rcwl/uJbKmKUzBQvpkJcMMjXpYuZRr/bRDfVqfb2SKaaFmU0TuFsyulPYvDZiU0vGm2bEY1cpyNDfoTPzgs33G2wYw2y+n+Pb0+/QLPxtbDBpNvwTGaPZuFLOzmXDXZmZD7HJ3cjP5XDQY9As+7syrhQHZq5p9v3v/Poc/Hrodf4otKsGsdut4gFNbBZ+oThwqBrV2PE8+PAaHrM6Zp5e+16hLU526/5uZ4rKW6PIzG/g36cZ/Kt4APYhP0bdSsz8xWz0QS0wSmT2YSRC1F4/JPX/9YduttOtxrWTH6Z+w9Z1W3nniYxqcahlM496Rb2iXq2pVzJ4/xJau0g8/GxuyXgPkHE1/z61ptCM9b/FgV1aaAb9RoOZJ7P+Mn+fZtJpNn6+0Ga/adeZ2NaJscWqE4S2/WSp0HrdPxQHevaNZp5mw4cJbWa+qh2ZaGCQx+afBhM0695R93MaZNwi43v+HXq9z/BAx6F7bovEgV2B6LU8wM8lxM/lZn69wkQzfzGb+fHiwMz8Ih44uOKYeWPPPJl+2ppzGQ96sg23GcZ5AGqBlqJ2T+bLZDqLNO53hG5qID9Ihxm2rnsmmqE1W8tmHnkH3VCv1tTrY2xG4111iLXFkNnzspEmY00tGTQDT+0etItMUzat8cz8K/x9Jxv/m4TW9vGLjG94UEC/n89GntpeaIb7Ln5+k8SBRajGnvkubF5fF/EHXbkyxgqt7WQSm3l9uxQ9NrWtrOJBBNUNzWY/rxtExMz8OboBAg1EqF+fdgKixaiPVPLY1THz9Li0reQOHtjEZtR/FVrrTKJmXvDf7z888GkhDp6dP5UHTaAGCIn4Cx5A1VAPHPbah2419UHaVrfPM8WcaGa2ONSWmUfeQTfUa83UK83Wfiu0RZGVeQsy17RH+lA2gE8JbbEk/Z9ms0ezQaSZ+gZsIKeIyttsyMwHeXBA/dzUi0972t8ntNaaXjxo+JqNrZcf5x2+T/r9iKh8NxvaknIBD2ArM9O0+PYevv1oNvP63VtiM/O/8mtIxMwTNMP9Hg9WRvJAxEwzTwt2v2CN9YtWadHyGSJ+m008M/8uP4/OhoHABUJrlwI1RH/FXk9NtgkNhG62181S7Wh3CxkP67auWytjZFSBwzhqYWYe9QrdUK/W1yvNqN/PJo9aaELiwAw4GW9qf7mGjSz9/3MZ17GJpJ53mmH/L5vYS3lAST3abwutrYUWmx7DhvQ2Nt7nC23xbIANZXseJJzGhnsOG3da3NmNv6aZeuoRp9aYrmz4T+PfoaCDlf4ntAOl6vH3HPw8ydRSO88l/HgdeTAwigcw9DulbMif5d+pw0b+Zd3v0Ez+Yt1AI2aQycSvF9omJBGDvi424WfJ2MaPHdv5xsH/H8hmfixr4ufBRT3WmhYPHy0Onkmnfv4rxcELYJ18e1rYu1IcWJQb4EFHLx6MfCoO3oufoEW+j8BiW8cQThRVsbIfcgTrB92gm6Xa8dZ1owxb190TVajFoQbMPOoVuqFea75eyVDSbPHdbBBptrcFm/zj2Mj35d+lLSTp8CVqsWnNJv0ZNu70exexeaeWHZqZP4rNK836U4/8S3wbOqToHR4cNOX8pdl5mj2n/nA6wIpm3Wm2n/rn/8ZG+yq+P9rdhWamJ4sDC3d9bHj/wffVle+vDdfIzeLAzHYWDyhoB53e/Fou5efcUmew3+FBTg821sPZWFN7USudfjRAWcADFKO2xawDtQvRbPl4fsxsHiDQfdNVh7X8N+jDetNAhWbYqY99kDh0wSq1Ov1ZHHz4E11F6c96Leb76Ms603OnE2D/yabeOAh4iQcTwCLKRAZsg5WmtOWRKYBuVn5o9jVsXfduNH1P00xnM4+8g26o19qrVzKXx7LppD56miG/nE1rrFXDw1+T6ZvEBpGMMPWLjxQH1hfksBmfxMb9ZDb6Nwptr3My2qcLbab8ajbbDXTP4wQ26pexOW3BJnggDzzG8P2RIe9uMKX1+X5pdvohNt40QAkaXi/NqHdhUzyZBxF1dc/hfH6Mi/j5tdI97kXi4C4JL2th3BHIyQMSugJwIWt0IT9WoTgwq39ZJTGGB1O5cf5eNKihKxH6Vppm/Noru7+xPGjKE4ceMkV/N2rj6Yx3CPNw82gMi5aSh0bTMwXWFEC3mvmwLJHxvGHruiEKv16zzTzyDrqhXtOvXmMntTozXAJ6HS5R+Qm1KkADq9k8UHJXU6eR/J6Sj3cKcxloozdqs/shhwgF+h2hW/pqx1vXTdJtXbeTv1a6Zi2amUe9QjfUa+bUK0gvaJE29enXrcagpYjvo8JG7ymWQQfvjLfpa69uPyRd6hoB3aBbTWgnPxiHylikm92jmb4SO4hmkjlAvUI31CvMPDAHMvDUxkRrCVIZnNLsPrVCnScObUMCKVAiMvMkzXSA1hOgzwu6Wf3B2JZ7a2OmYG7UZjVrkjlA3kE31CvMPDAPaiWinnzjNpSJQPviU69/FmSs3mwDDnxKDVqYgzUF0K0mPhBzeJcL/dZ1o6I2vBxZDXOAvEO9ol5h5gFQksF4o/6doSneJgTdoJtV2vHWdSPZDMS2rrs/auOarYY5QN6hXlGvMPMAKAFdJp0IGQ4hkX5Iurw8ClJBt5rQji7H8wmQsUv0dDJkW7uLloQ5QN6hXlGvMPMAKMn/tXct4FFVV/fOZCaZJJN3QgIGCBAhQIDwkoBBg1GjoqJGRRsVW6xUUSliRUVFikg1WmrRoqLFir+oaFFpi79oqVJEf7WIL1SUpxBeEiC8SXL/s5k95TJOQmbm3pl7z13r+/anJPNc2Wufdc89Z590JbqnAMoE2lNQCRrAm8GDH7Wum6sxBbRxbiSYCdkcIO+gV+gVZh4ApAF1qCkCDWGBTkTDngLwFo1Bz9+6rl7Tum6yij7eoZgD5B30Cr3CzAOAlKB18QWgoUVUtfDzbNAD3ozkTgx0w/nwGG3rOmg2dHOAvINeoVeYeQCQAjTDMgk0hAT/ekgqyONAB3iLBnd0fLuIRRpTQMe7l4OaVpsD5B30Cr3CzAOAlKDbfKNBQ1igPQUoOuDN6AGOWtfVaFrX1YkYq+Lku1DNAfIOeoVeYeYBQBrQLcBS0BAW6MIHewrAW7QGN2pdV6tpXTdLxRKHVmORorwOcwC9Qq8w8wAgI6j7QDFoCAsjRIwFDeDN4EGtVNu67hlFWSX+WwJmQsN7vvXJMAfQK/QKMw8Algcd4oF18eGBZlUmBPysBrSAN4MGszwRczTrbDdy6zpwF0bewRxAr9ArzDwAyAJaq0cbmNAGK3R4FGz+Am/GD2J0GuREXl/rb103Fa3rIss7mAPoFXqFmQcAK6Ncwc75cEHtOQeABvAWpQGsMqB13QLVd/oyEGHewRxAr9ArzDwAWBllMPOGDXI4FRe86TFwFQa0rqN1thXgDmYeeoVeYeYBwJ7wL6VB+6vQQbdGJ4TweKyHBG+RDFheEdMDWteNO0HrOnAXRt7BHECv0CvMPABYDRMV32ZXIPQLoUkK1juCN+MHq+qA1nWz0brOuLyDOYBeoVeYeQAwO6gP8HDQEBaoz345aABvURqkBohYrrlFT/+P9coG5x3MAfQKvcLMA4DZQcVlJGgIC2URXAhVgTfw1srBKY9n8/ymgGb5qsFddPIO5gB6hV5h5gHAjKCT+XCbNDzQISh67CmoAW/g7QSDErWumxDQuo7W3XrBXfTyzqbmAHqFXmHmAcDkoA1M+aAhLEwWkQ4awJvBA1IFd7rwz+4tROu62OSdTc0B9Aq9wswDgMmQp2BdfLigglwJGsBblAaiQu45rW1dBx5jmHc2MQfQK/QKMw8AFijUOJkvPNCeAiOKQhV4A2+aAcjLpz8e0LSum6jq2ya2CnqFOYBeoVeYeQCwDkYoaH8VLqgIGL2noAa8gTcefKh13UbN7N4c1Xc3DdyZIO8kNgfQK/QKMw8AJgetiy8CDWGBeu0XgAbwZvCgQ63rlga0risFM+bKO4nNAfQKvcLMA4DJQJuVsC4+PGSDO/AWxcEmW8QszWmQtRh4zJt3EpkD6BV6hZkHAAsUatyWCw+0p2BSlN+zCrzZizduXTdW07ruCLeuSwd35s07icwB9Aq9wswDgAlBt/gKQENYqFRiu6egBrzZhzduXfe55hb9IjX6y+BqoFfbmQPoFXqFmQcAk2OMgmO2wwXtKSgBDeDN4IGlQMR8jSlYrWKpg6XyzuLmAHqFXmHmAcBkoLZXKCzhgU7hQ/9f8BatAcUT0LqunlvX4eRli+WdxcwB9Aq9wszDzAMWKNRzFH172doFdKt5pok+TxV4k5M3MYiMFLFWM7s316DWdbLmnKnyzmLmAHqFXmHmYeYBE4I2LaHFZHigg1AKTPrZasCbXLyJwaNYxBKNKfjIZK3raqBXKc0B9Aq9AjDzgMlRLWIkaAgLYxXsKQBvxg8e6QGt67aLGK3iDpoUeWcBcwC9Qq8AzDxgQmDNY3hwgTvwFsVBg1rXjQloXTcjiq3rkHf2NAfQK/QKwMwDFhjg5ikoMOGA9hTMVawxw1IF3qzLmxgoygJa1y1Wzb8crgp6lcIcQK/QKwAzD5gQtGmpGDSEhQLFt6/AaqgBb9bjTQwQ+SLmaUwBbZwbAe7kzTuTmAPoFXoFYOYBk4OKywTQEBaqOQDwZuQAQa3rJmla1x3gf6N1neR5ZxJzAL1CrwDMPGBClIGCsFEBCsBbFAeHqoDWdTTTlw9m7JF3MTQH0Cv0CsDMAyYHrXksAA0hQ5Y9BVXgzdy8ceu6xRpTsEK19kV4FfRqGXMAvUKvWDMPMw+YEHR7D8dqhwca0GTbU1AD3szJG7eumxHQum6MBK3raqBXU5sD6BV6jYVeYeYBIATQDMEM0BAWsKcAvEVjEHBxv+ntmtZ1M9G6zt55F0VzAL1GrtdZ0CvMPMw8oDdolgUbbsLDAFAA3qI4AJTxCZD+W/R0MiQ6TCHvjDYH0Cv0CsDMAybHbBTrsCH7noIq8BZ73rh13dyA1nUjwR3yLkrmAHqFXmOhV5h5AGgBtEavCDSEBbqDYaeZlRrwFjveNK3r6jWt6yZL3rquBnqNuTmAXsPX60ToFYCZB6IBOtRjAWgIC9hTAN6iVeyHi1gd0LquAMwg76JgDqBX6BWAmQdMiDwFG27CBd3FwJ4C8BatIl8kYpHGFNDx7uVgBnlnsDmAXvXTK3rvAzDzgCGgWZZK0BAW7LynoCpC3krAW6uLO7Wuq9G0rqsTMVaC1nXRzDnb6lUHcwC9Qq+x0CvMPAAAPwEV0rJ2uTmzO7TL+7pNdsb27Mz0PVkZabvbZGfWtsvLWepyOacoLR/SYdc9BS6v13N6r+6FL3Vq3251bk7mjuSkxIOZ6Wm7crIyNmRnpb8uHjNaaf4Oj215o3xKT/U+1i6vzZc5WenbkhI9ByjvcnOythTkt/0gLSV5eks5x63ragNa12XbhbsuBe3/0vGktt+QXinnSK8i5zbn5WS+C702/71zs9LO6N2z2/zOHU767rL01D0PJ3oODUvx1mdlpK/LSE9bAL02n3Mix/7UnF693qRp0Gt4ehW/n6zg5Phm9dqvuOhVrV7Lvd49rdQrANhDKClJSdelpXp/7NX95IO/nXij+tZLs9Qv3n1VXffxP9TvPliofviPuepzM+9Xbxx1+f68Nlk/xsU5N4jnjVV+OpNitz0FruKiLhNoMOvbq6ixOe7+9OBdauWwIXUuV9wBYbAeVH56S952vIkYlehJqO3RtXP9lNtvbGwu52657srG/La5exLi4zdpc04YgNKA1nVLVXvMjh7Va3pqys4T6fWGUZftpQtL6PUYd/16dru9VXotH7KT9CqeMx169elVmM+tpNeWcu7m0VccaUGvy+2oVzFm3pCRllrXu0fXQy1x96trLq0nk+90Otc3o1fbeZOBfXve0SY7c++J9HrmaYO2t6BXAJAe+ZlpqV+V9u+9f9nCZ9WGTZ+0KoSg6mn2Xjx/hYiBdrwiLijIK+iY327j0NJ+ja3l7utlr6kXnHX6riRPwufiJfradCYhPz7e/XG/3j3qQsm5d155Su3RtdMmp9OxcruivKgxBRslbl33E+6yMtJWDRlYcihUvdJMqt312rlj/ubTBvdvCkWv51acuiMxIeEzO+tVfP//9O/TfVcoOff2/CcbuhV22uhwOD61s15zsjK/CVWvb87704/iIvwz1muBHY1J/+LCLoWd2m8JVa/nDDt1mxhfPiXuYe8Au6DUm5y088F7ft3Y2iKjjYPr/0+9rvqSZeJ19oi4wk7EdenYcVhOVsaBh+4dr4bD3fS7bjnoiovbL16q2m45l+B2b512x9g94ebcxJuuXf9nh2Nfk6IcFKZgqmqfWZjS1BTvrkj0evVl578jXqfebnod3K/3OW2yMw6Gq9dpd968N86mevUkJGyj7x9uzk244erVcxyOvRq9eu3CXVqqd3e4OXdww/8d+dnF5/6veJ2Niq8Jh20wbEj/4bnZmYfC1qsYX2icgaEHbDFRlZyU+ONf//xIWGLRxi+uvGipeL3Fik1uCbZpk9aFjHyk3D0yZUJjijf5W8U+g1uByxVX+/Lsmr2R5tz9111Z28/lWq7Y5zZ0gciVOj30Wl01fLHd9EpGPlLuau4dfzA50fO1nfTqdrm2zH+65kCkOTd19BUbSxyOZXbSKxl5PfR62fkVb9hJr0MH9e2Rm5N5OFLuHrpn/P5ET8IqG+kVsCFc3uTEbx69//bGSAuNf/blpLY5Xym+DSjSc5ffNnfrH6dNVPXg7urLzt+fkZb6gh14czqdK6dPumWLXjnXu+fJ2+ySc6kp3tV66jWvTdbnduGuY37bHXrp9apLz9ubkpw41w68uVzOz2omj6/TK+d6duuy2S45J2r6Gr1yjmboczIzPrULd5075tfpxd2VF51b5/HEPwvLB8iKceVDBuzSQyz+eP9vf9lDxV924oqLOj9wXkVZk1687fp2qZqTlUHLHmQ/MXJcr6LCb/TMOdr4lJaa8p3sOed2O8efUXZKvZ7cLXvj2R2090B27vr36fHw8DOHqnrqlbqP2EGvJcVFa/TWK9+JlBrJiYm3nTl00D49uXvvtT9voL0HsnM3tLTfTL31ShuPFXudyAzYBN6kRM+Ole+8rOpZbCja5eXUKnL3qPZmZ6bv15u7Z2bc15CZkfauzLw5nc5NK95+aZ/eOVdUWLBf9pyj5XBG6DU3J+sH2bmj5TV6c/f07ycfFqb0HZl5o+Vwn7790kG9c65r5w71succLYczQq9i7FkvO3e0vEZv7mY/cu+BJI/nLVg/QDZUDSzpuUXvQkPx619W00bYCbIS1+GkvGvOLh/cpDdve9csV1O8STTIybrJqapzh/zPjci5iTddq/Yo6lIjs14HD+zzoxHcjf35yG0y67WkZ9H1lcOGqNBr6DknLpK/MUqv7dvm/VZmvQ4d1He3Edxdf3XVRpn1OmzoKeON0mtykme3YrNNxIDkcLvjXniiZtJhI4rNy089pLbJylwsK3c9u3X591MP36Mawd21V1y4U7zFOEmpm/vAXTd/blTO9e1V9IWsOZecmPjykzX3NBrFXVpqyj9k5a5Pj64fGKXX6qrzNsus14fu+fW3RuVcz65d/iNrztHhRUbl3EtPPdSQlJj4hqzcnVLSc4VR3I0cUbleYr0CdoQnIWEDHbhghGA+eesFNTcnc62s3OVkZdQZxR3t3He54v4qKXWrV/7zpVqjcq5r5451suZcUqLnByP1mpOZ/r2s3OXmZO02irtXn3mkQbzFfFn1+sW/XjloBG+0hKJLx/ztsuZcije51qicI+7S01K+kZW7trnZ9UZx9+KTD+6UWK+AHUEnpNGmECMEQ6ex8WYTSS+E4o8YxR0ddsEH08iIeiNzrl1uzkHoNTzu6NRnWblL9CQ0GKlXt9u1AnoNPefy2mTtlzXn3C7XQSO5ExcL26HX8PQq3uIjOEBAGjgcjgYjxEJBxytnpqftkpW7uDhnk5HceRISNktK3REjectvm3tE1pxzOp2NRnIn88W30XoVF1obodfQeWubm30Aeg2PO5kvvo3Wq3j9DXCAgEzF5hBtCDFCMHSLLCcrfZvEsy4NRnIXH++Wtc3igb3fv3/EKN465rfdJ/EAd9jInMtMS62FXsPjTtTSb6TVq4G8tW+XVw+9hsddeqp3k6zcxbvdjUZyJ95iFRwgIA0S4uM30S0nIwTz1kuz/IdHSQmaxTSKu/99cRatwV0iKXVrv/jXK+uMyrnePU7eKmvOJXoSao3Ua25OprRnQ2Rnpu8xirtF8x7fL7NeVy1dsNuonOvRtZO0hjQp0bPFSL1mZaRJu3mYzlsxiruFz/2xVmK9AjbF/GdmTN5jhGB+O/FGtU125hOyEte+Xd67z82835Bic+uvrlon3kLWFovzp91107tG5dzQQf3elDXnaFP0nEenHDCCuym339iYnup9TFbuTu7U/gOj9Hrz6Cu/llmvD99768dG6XXIgD5/k3iy7LW/zJxqyFLW+24bcyjB7Z4hK3fdu3b+2Ci9Xn/VpSsk1itgU1QPHthnjRGCKS7qQssdymQlzuNxX3PRucMMWS7SLi97g8TcVXfucNIyI3jr36eHekbZKRfLrNfTBvffaAR3RYWddsus15zMzNEXn3eGIcaKu3ZJq1cyVkbw1q9396ZOHTqcJbNeK4YO2moEd9y1S1q9FnZuf2PV8DMNMfPZGenfycwdYE9ku12uHbQzXtfj4Rc+699p75KZu9SUpL16c/fea8/U8+YcWbnLdjgcW77+94J1eudcbk7WPtlzLt7t/tEIvSYnJW6Vnbv0FO9+vbl7d8EzdU6nc73MehXfb+u3y17fpnfO0VIK2XPOEx+/0wi90pI72bnLSE05oDd3S16dvVmMP+sk5w6wKSafXT74Oz0FM6hvr70ej/sXshOXlpI8vbrqvEN6cndypw40yzdK9pzr06PrUj15O21w/6Z+Pbvdbge9nn/WaT/oyd2Akh67bZBzSpvszJqrLztf19n5Tu3brbaDXvv37r5cT96GlvZr7F7Yebwd9Dri3GG6nrLet1f3nXbQa0F+20evuewCXTsC5bfNXWUH7gB7wkszwXMfu3+HHmL53d3jjqSleD+3yZWv15uctI1OMtSDu7vHX7chLs7xoQ2484pY+9gDd36oB28P3Tte7XBS2w12yTlqg/g/s6brstdl+l23HBQ5vNIu3NEdQ730eucto79zOBwf2EGvNJv55EOTVuql13Z5OWvsknPx8a4f5j3xO132uky78+a9SYkJK+zCXXpqyk699HrbDaO+tIleARujxO127Vj6+pz9kZ5cmpyUSL1v8+3EXYo3qZ5ufUZ6Kp24qNpsI+5KaLnNO/Of/D7SnMvKSNtns5zr73a56v79xrMRzTLTyaWJnoTtdtNrWmryvkj1+vzjD2x0Op2b7KRXWm7z9itPrYtUr5npaXvtptcEt3uXHnr1JCRss5teaXlcxHp9bNp6Md78YDPuAMmRLYLWx9IgTsabNtLQMe5jaP18uDP0M6bedjAp0bNDvE6pDTkd7k1O3PPSUw+FVawfuPOmjWzkpeVOVZQCEWUiRoqYIGLGXEX5HRmEcGf8/jhtIh10VJ+Skniq5Pnl4tyYJGKZCNLZdbR+/vnHp9WFq1c28jLnnFdEoYhyEdWcdzVPKcpUugAPd8Zv6u03rrGzXp965N5V4eo1LdW72wZjhFav7/NYe1SvLzwxfW843D08+dbdbORtp9fZLuc02p8Wrl7vu+1XX/OFtx29CSA5dvi0czToBL7T/VfBtOTmrNNLV7d248nKd16mdoA7khM91J6twMacltCmpKrhFa3eoPjp2y8dLCkuWiMKzUoZuNMO/CLmi1guYqMINUgsFeFRfDP06wb37/3J6uVv7G5tzlUMPWVvZnraWhvkXLqIQ6zTRhFNIm7w5xwtuTnnjCFrQ9Hr4IF9tghj8JXVuePB/7+Dvoi5IpaIWC2i/kR5R33AL7/w7N2h6LVXUeE3Il8/tbteTx1YsmL18oUHQ9FrelrK9zbR62HWq8p6HePXa7zL9cN5Zw7dEIpeSwf0rk2Ij//S7nqlJa2h6HXF2y/ukUmvAKBFseJbr/w4Fxq63RnYool+P5lm6alt5exH7v2RDm/wn8a269ulR09Qm/XQpIP9enffxLN74xSsQzvKncvlnJKUmLCr/NQBm5/949TDwbj7w9Tbt/bsVvi9MGK1MnEnEmpBMwU5ML4XkReYczTr169X9y//NP3OdcF4e7LmnkYxsO1I8SbXJScm3maTnCsSsZn1SmZ+QVC9un16pXMjgnH3+PS76kmvPLsnRc4JQlxsQNVWxurAvPPrlVoINq/X39T26NrlO56Nh161eu3d/asnHrxrYzDenqiZdJj0Sksv3W7neBvpdQvrlUz9/GB6pVn6slP6rm9JryW9ijYmuN1boddj3Hni46cmJ3l2k16ph38w7n4/ZcKGHid3Xs2z8fAmgJSYKWKA4ls3dlBpudcqLceppmJEswlCGIfEFW6DGND2J8THrxf/fl78roqLExCEu/h41wI6ZVfLndsdR7PJc2XkThTeklYU6D2qb8BrMefoDlGm4K2T4E1c9BwQJnRDosfzkk1zbrII2hdALRA90OtxOVck4mAr8q7uRHnn1yvl3cUORyNxJ2KNzfW6O1S9Em+k1/h49zwb65XG1zUn0qvQ6Cu0QVarV2H010mcc7rplQ7lEnm22S56BeyNSr4yDYbCEzyXZvGv4ZkF6hSyrRXPAY7HIBGLRNDGm3Q7fOETzPY10HrIVrxGAd/6rw2YmbELprNJ8oMuvve2Un+UZ7NEbLJRzk04gTE4EmLekZGohF6h1xD0OjICvc622RgBvQJAK1AQUFSKQ3w+FaBdXIyO+DRz9L8jQW2rQLMB4/kCiHir55kaOxRpuo36aAtFetQJnl/Ka3eP8ONn2DSHSLeBt4ZLTvAcmq2imVBaX0/LcabaKOfu1OSMNppCyLu/snmlx8+DXqHXKOiVJspoKU6DiCk202sD9AoALReI5Tq8To2IVWzkydg/BWpbhVLm67DmImibHWZcaGaE1zg2ZwymtlDcq4KspTxko1m+dNZtuGs7/cvm/Jvad9s05xqD/P+J8u7jILf386DXkPV6EHoNW6+7oNf/GnPoFbAtJin69U5N5wJF6/yoO812/q8HNIdk6L/nYk2nQ0o9K8+txBZpiusqEdcHFNwXgzwvXcQ4EeuaMRN2m+UriPD51Zxz1EVjqg1zriLI7ft5LeTdpmbybgz02iJv0Kt+evXfuZ0CvZ4w7zbbUa+APWYG/Bih6HdlSmv3hmtMKfWgxzr51mMEX1jRxc8LInbKOuPCRXa65hZ7HRddF//evxZ3uaq5GNSsc9zVwqygHWblaRAap9NruTQGYbeNc45m71YEtLTT5h0tKdnbQt4tlzXZQtDr+9BrUIw1QK+joVdlJfQK2BVUUCYZ9NoenWcf7IaxyvEHU2RLWqSrebObf7PSbDXgu3KnjONai/EMTV0rOhnYYZYvT6dBnC62F2v+nW/XnOPHUbeMzwPyLr2F/unaTXfF0Cv0Cr1CrwBgVBEZG+SqXq8ZgnkK1pwBrSvQAwLWytJsyoAWHt9c8V4VZM2k7LN8pLWlijGzcOnIueOe42km72pbMAfToVfoFXqFXgFA70LiByX6BAPfq1TBoQqRgG6VjpDcxOfxzIq/kFKRrY7g9egkwLdsOMun50xSIXIu5Ncsa6brzXpVon1B0KtuKIJeTanXdSr28QEWwXKdC4kScHEwAhTrWvCLZPxivKZxguZW+wFeA+mN8HULNLN9Ms/ykc6M2IxKM3uLZbwIj1LOBRqESnAHvbJeJ0Ov0CsAhIsByvG3oow8uYxupc4E5cAJimllwAC+UNVhding9indgr1cxD5JZ/lIa1jCZr6cG6j59wJwB71Cr6bX6xb+96tgHjAzhivHusgYBRxtrB/o9mGNpAW6MOBUyFV6zYQEKdJezc9XSDLLR+bQiE1tNKs3RpFzdi9WObfK6jkHvUKv0CsAxA60LGNRFN+vSvG1nQT0K9RSdarhdbFT+Tapv43YBFWnwYg3RvmL9BJV3ovLEoMGcHrNyTJdlMc651QLGy3oFXqFXsOGQ0S8iAwRbXgsTxLhFJEgItEEdNNnpCXRKS3kEPGRzt8hhx9H38EtItlk6eNhXoNFXCueT9/nFP47BQN95zz+/sHQW0S7Vr7XCVEZUDSi3ZIKm1wjh5SzAtxGTNsKbI6eMyC8kameX3u+Klcu0gZyLFtDzoE76BV6NX/OkZnLEjFIxC9F3CniFhFniujIhnGwScwvLb2mVQBVASaUDGsaG9Rr+TvcJuICEe1F9OXvE204+XPnBlwQOfm7VIi4kL3waRxlIrrzBYm7Be9K3+0PIlKbeUwPEX9Smu8UdQVfXOfxhVJEmBVlM0j96IejDOk6CMyTrEAP4FuZquaAp1Kd30NmY6DwbIiRG6Ap53n68QEAACGtSURBVAqQc8g5cAe9IuciNpu0pp/aWv5L8XUJ7MtGk8zwaxzXm4D6FDbySzgS+OcONssTRXws4j4R/RVfp7QbRLwi4k02+NEEfb6TRJwj4p9s3LUXUD9jD9zIvx/Lca+Id0W8wX+HYH/7nopvA3lOC0b8bhF7+ALB1czf/gF+z5DvltF6uVExTIYSBevL9IYspiCb24gd0bQRG2XA+4zQFOm5EhmDmayvaKBChrxDzoE76BU5d4Kcm2NwznXiXHhfxBkBxjCNjd6XJjHzBJplvjXAzGcqvhnmNYpvllv7HfydCjdH2cz7Z96fFvGYiEMizg14DH3ObiIOsoFXAj73H/hz9w34TvTaL7CXdrVwIfGeiCMiHlKaX4pDs/8f8IVPi8ttPAFX/HQFGO111cMVLKfR27xLc3eD24iN1bQRO8JtxNINeK8qzUAgW9eLEsXYPsce5BxyDtxBr8g5XfFzEd+wmYwLYjZp2cqjJjPz4zVmPp4vFteLeKIZr5fHhjraM/P+JTY9wjDzBFo+86niO6gtXvNzer3PFN/diOZm5U/hi4HVIj5v4bH0s98rvrsa3hMVjDkx/uOTIKQ8HjpGIC5nSVKkK/jYbP/t0kWqQQeZSGgMCqOcB0sUCY4qR86BO+gVOWeinCN/RktTzm7m9zRze5WIX/C//Zsu6SJgpIguGpNI5nOIiPMU36w0XRy0FXEWv77fhyXx7+k1rxZRrhxrQ05rxE/mn/9c8zrNmXlaZvKwiB8U3zr6YEjm3/0m4Ge0hp72CFzKZlfhi4GT2Xify5/1dH5MbzbotPa9L+d3b+XYJtMCEb34Z9olQCeHaebp97T86YDi27Pg55mWQj1/ggvm3zLv1GFwt/LT/alaEDeLNBz8l4i5Sux3q+MkNKClolnA6xD9BXq1auDdBvHa4zRFerIkNJLWy6I8I4Oca/37jZUl58CdbnothV4xRgTg32yMe7SQN1lsWDPY2NNM7kA22/+jHOOFjPvt/HrT2JiTuf2j4lsDfg4bfv9BZEX8OvcpvvX58TymPMsGnx7/nOJbVhPXjJnvIOItxbfEpk8z38HJn709/z9t6n2cTXEv/vxz+YIjnv9L+zxoedEdbHYv4u9AFyq0rIdm+Vcqvv0EJfxdiZvP2IBn62DmCbSUpkHxLXfyc/AKf/bmzDldbLzMfzPa1Fyn+JZSNdfNp7OIr/jvcZxwK2NspumzrFKwtEZPePkKz9Kc0nHXAW3EaF3iRCOPweYi7R8Qxlk8D+hWXEUU368AOWffnAN3ltNrIfRquZz7D5vhghYe42ATTKaPuqO8rvhmcWlmmpa2PMl/dzLCNIP8IptHBxvISxTf7P9FbKjvV3yngHs5ytnM0xr9G/gzDeL3INP6nnJsr2Ogmac1/7Ten5aTdDnBd4jj97iHv0O+cmx2/0bFtwGYfkZ3I24WsVPx3SHI5J//Q/HdBfDP3pOp/j9+TeKnL5voTsqxLjSRmvkqNvNTNWZ+heK7K9LcGvfT+fFJzP8yEV/zxVawpTb0/b71T86NMJkmMTOv/6zOKCt/AVEkRwa0EZtr9GEbkhkDwoAoz7jNVKI7+4+cA3fQK/QazZybEOOc+xcb4+7N/J5MaiobXDLepyq+loZkwGmJyl8V3+y0f9a3q+Lb9DlTY1iHiljOZj6bjTut4/6L4pvJpxaLRWyAi9hADxNxueJb9/0lm95gZp4uDv6utDwzT58hkQ05XbTQ3Yg/aoyt/67VRn7PBP6OW5Rjez6JA9p0+iz/mz4rLb35gS884tkjXRZgmCM189ewmb9NY97XKr67Fs2Z+UcU3x6B6xTf3RPiap/i2xwcrNUl/V3pLsPZZtAh/SEmwXMDQYplMR+24S+YH6lRuN1Max41m6WqLUofFd45yCLkHLiDXqFXKXOO9lHQTO95zfyeTHA/NnqpbMhpicr1bMLJNFILxRR+PBnX2UHM/Af8XDLKJezXyBzTXYE32XSSIe7PRpuWsdAqD+p3TystejZj5mlWmdaHb2IDHgxuvli5jM35d/wc7QVLL36N2/h1R7JRz9GYeVqn/pzme9HFAc3M1/DvH9M8Xi8zP52fO1Q5dvjTWn6tYGae+KE7I3Q3hPYEVLCp36747qB4WzDzlWbQYzpfKQL6ga5WFysWXftInQZEzNKsQ9wuYnSU3ltbpKssngfRFniFYmzP66jnXDTaGVo958Ad9IqciwlonTcta6E17sFWNHTgx5zGRpvWkv+BzTUtq6IlMwsV39KSXmxcnwow88P4goHMPM3wX8yGnjbSVvFjX+LXo1llmu2njbRt2YCTmafZ74FK8G421FLzM76QDXZSbRpfLJzDn5OW/Dwa4HXo4m2r4psJ15r5zGbMvMJ80ZIdWm9Os/QTlZ8uY4nEzOfyZ6ULngzNz+nvdXkzZr6SL5Ry+DOn8v+/rfiW2hQE+Yzp/LtTY5WEhYpEB1GYFIVW+8DcRmxMQBuxGWoULkr4vWda3BjQrcJYLpsjzsqQc/bIOXAHvSLnYgpaB0+zv39ng5iiMZqZnFs3sgmn2ftPRNyk+GaJi9jcvsVmn2bGaXMpbZB9hl+DOKX159T+8krFtwznd2yW6TWS2AgvYIP/T36uf+PtnWyWL+DXyeGfvcdGlV6D7kjRch1aG34dm3c/ktjs383mOIMvXGiiMl9j9un5y9lc03OuVXwz9Sfxe9Bnma/4Zr39S1XITNNdiw2K7+5E7yBmPZ4fc5gvTNzKsRl2N/+OjP5U/reb35/2I9CM/1I26E7N677Mn1e7ZCaOuaGlS5cox7eypN9NUXxdbWgJkzfA0NPfhJY9dY9VEo5RrD+LYkZYtguBKIzlAW3EFqtRmjXiIj1fs2mq3KI0FuMiGTkH7qBX6NXwnDPDRRCZZpplv4NN+C1stC9h40cz1QPYTJLZfopN5gX8uAfZiNPzKtgY00z+s4pvJr6KH7OCX/8Sfv50vlA4n73caDbOU9mQXswxiU30ZL6ooHaLT7AZv0Q5tvmU1s5T1xta6jKBLywu4s8ymi82HPx9e/NnGMufgb4jbWylE1lpZp/uCtBBSzQrTjP6Xfj1XufveoHGXKfyd50XYK4dfAFAFyq0dIfW/T/AfHTg59OdAprNp2U/c5jPkXwh8RsNX/EBfzP6nnSXIEHzM8rhG/giZzLXBP9n7McXUGTYn+a/a4bG0BPPdHclqgeqYmOr8SCRFFqsQOeLmBfQRmxEFN/fjEU6FE3NjrG2RnFBR87ZIOfAHfSKnDNVzpHpoyUtF7LBpf7v1Ww8izWmkGZ0S9kMklE+g43iSDa42fxYmvG+jI3seWxayYhfx885m9/rEn4ezTznsBnuxgb8Mn7eQP79z9iEl7H5vpYvBNI05jmDn3Mzvxc950rNxYj2AqYrG/RL+b/DWFNufk9/n/tL2cxfxO85it/XqXmtIfx8JYiZr2Iur+XvdYnGzFfyz8cw55dzXMXv2y3gc/tBXXOW8cWP35D7efs5v2YHzXP7Mhc/57hCY+bpMbRH4XYlyi3lFyvRO4LarrBMazFuIzYpoI3YJDWKA514L6+Ihfz+dao1uzmMiPHfPc8qF5BBcu5AjHJugdVyDtxBrzbOuYWadflmzTn/zHUiG1tnC49zaoykQwm+VtypeQ2n5nEOzc+crXh9RWn+pNNgiOPvkNjCdwj2GSPhzRHFvxPNyM/hC45I6wBdqLzOFzxRrSleBTACA6zGLZ+Wt1Yz00KzLvlR/gxUpJfy+9eq1tkIVqGYo9WoBzlnj5wDd9Arcs5SOQeYG3Q3gLrTdIvgYoT2R4znMNz/0RvMUrC8xmhMVo4dp2z2Al3M6xz9BXpFLGY6LF6kC03w96bZxRnIOblzDtxBr8g5GHlAd9CdgOs5EsN8DeoQRN2ImjtMypAigtNcbQ5uIzYzoI3YGDUGuUEHiXAvYv/aSysUaRqIzbS52aWY/G4Q59wME+bcWrPnHLiDXpFzRy8irDRGANYCbYyl/QHZYZhxevxoniiIM+oD0ix8Kf5OhsMSLcV449BoLsz+dl4z1RgNdFykV/FnWaVGeQd4hH/vWA/GNKgWI+fkzTlwB70i5yybcwCgK6h4zAQNhoN2Upt9dq9MM6PmbyNWHMPPY6UiTbflzdZxgi7SZ1ss55Yg58Ad9Iqcg5EHgNYB6+IBf0GkNmJzNQWabo2PjPFnKhKxkT/PUgsU6XzFJMczI+ciyjn/Br7lZs05cAe9Iuf+m3O1FhojAEB3jFN8hwMAxoI6Ikw0cYH2txGr17QRm6zG+EIvSJE269pR2shstgEkXTFHJw7kHLiDXqFXu+ccABgKSnxscjUeeYp5Z/dG8EYhbRuxAhN8rmILFWlaZ5ttwpybaNKcG27SnLOCkQd30CtyznpjBADoDjpyFzu8o3exZErw4KttI/a5WY5W5/WY/hmg+SYs0jSQjUN6h5Vzi5Bz4A56hV51zjksFwZsh+EK1pRFA6bsD8xtxGo0bcTqYtVGrJVF2ox3jsx6S5x0PV8xGWfN5NxY5By4g16hV0lzDgAMAVpOxgammi3gNmK1mjZis1QT3W4Wn6XCxEWaesNa4Y5WGXJOjpwDd9Arcu4nn69Sk3PzYOQBO4GSfaFiroMwZObadP2BRcErDWgjRusLS0z2Gas0M0FmPPGQ7rQU4qJR3pwz0cwjuINekXPWGyMAwDBjCUQXZORnmaj45QW0EdsY6zZiFirSNBs1wQI5R8ZghWKSdcqcc3OQc+AOeoVeYeQBIDLQ7cUloMGe4JP5Jga0EZuqmnNGaLSmSE832aBrlU1zHhPlXJ0Fcm6UJudqwJ11uYNebZFzY0w6RgBAVIBNrtEBzbCMNVHhqwxoI7bADG3Emvms4zSf0wwDMW0OH2CRvCsxec4VIufAHfQKvUqWcwBgOMoVE94es4mZp9u7MV3WRMU4oI0YHWldYVbSTFqkrWQO5sX6gh05B+6gV+gVRh4A9EWxYpIesEBUCx61EZse0EZsnJl3+fPn9XdLGBPDj+JRrLHO1mx/P68Fc26qJufGgjvrcQe92irntGPEaPwVAdlBt8Zw6llsBpUFSow7BPH6VW0bsdmq+U42DPzMMzSftyrGH4cGs0mKdQ4coUEt1rN71cg5cAe9Qq82yTkAiApoA1I5aIgJYsa7KHADRCwPaCNm+tvNJinSpRbWzLhYmYMgObccOQfuoFfoFUYeAACrIaYzQtxGbHZAG7FqCxRoFx/woXKHncoYfhw6pGU4UjnsnKu1aM4NB3fW4Q56tWXOzdfkXAX+mgAAGAG6xbtKicGufy50EwLaiNGaQtMvsQpSpGNx4uFYxbrnLtC5BeXIOevkHLiDXqFXy+UcAAA2QtRvmXIbsVWamZaFqnlPNgz87B6TFOnJinVPQKZb494o/90qLJxzsTby4A56hV5b/9m9MPIAAEQDxTEqcoVclLVtxCqtQhoX6aWaW73R5JEGskoL5xyZAVeMcm6BRDlXAu7Mzx30ipyLwRgBAIDNsFCJrinwciu4A5o2YhNUC912DlKki6L8EWh2bJSFc46OKx8Z45ybiJwDd9Ar9CppzgEAABhW4Kp5U6t/pmWOarGTfHkDViyKNJkBjySp4EHOhfQdsmNk5MEd9Aq9hjdGLNc0cYCRBwDAENBO+qgVSG4jtjSgjVipBS9G8jRrN1dFeZCZKKLAwjmXh5zTJefywZ15uYNekXMxHCMAALAZqJuC4YWSZ8Vma07mo5kxS95ujkGRpoNPZGpZN0qJwt+ec24Wcg7cQa/QK4w8AABA+EXNxcdp12kOyKA2YukW/T5FmiK9IkpFmjbNTUI2hZRzYyXKuUJNzn1uZM6BO+gVetVljFjN3+UjGHkAAIwCHawxIgpFrYIHUP/t0kVWaSPWQpGu1ZxEa2RbNurUkC1RzhXFMOeKkHPgDnqFXiXLOQAAbI4ixcCCKQpYgaafrsqzFJa+7RyDIj1BiW7LPEubA+QcuINeoVcYeQAAgMiLmSegjVg9txHzWPx7lYnYrjmkxIgiTa9ZiSxCzmlyrlYzW+kFd+bhDnpFzgXJOf8yoQUw8gAAGAWaZakxsJiNDGgjNleGtYJcpOv5O803sL8x3aKfKVnOlRn5nTjn1iLnwB30Cr3aIOcAAACOFhjd13TSSXYBbcQ+smIbsRgVaTpApkDynBtgUM4tQc6BO+gVeo1xzpXDyEeUbxROzc/iRLhFOEAPABwPQ2Y+qNNAQBsxWoYyWhbSxHep0ny3WQYVaWoLWi5hzqVHM+dkGUA55/zLD2br+b3AHfQKvRo6RsyEkW81skRcL+J5EX8VcZvi26NxtognRLwsYqqILqAKAHyg26bzdS5g1EZsTEAbsRlWbSPWiiI9Q+eZCNnX2RaL+Ag5Z46cA3fQK/RqqZyzg5G/X8Q09idXi3hLxMciZou4WcQjItaK+C3oAoDjByS9Clh5QBuxxbIdT83rOo0q0rQpaq4i/wyOR8e/R5kNcs4oIw/uoFfoVf+cGwUjHxZoCc1NIu7gi0jSVV/FN+G4TvHN0A8S8aKI9fzv5kDLcHqJqBJxlYh2oBeQ0bzr2uKL24jNC2gjNkI24vhwK/93nKDTyxYoFu6tHwLKdP5b5Afk3Fob5NxEcBdb7qBX5FwIOTcOdiMk5It4VMT5IuL5Z6eJeFPEEhFnikhmg3+WiJwWXovW2Y8U8W8Rn4oYCHoB2UCDkS4dCbiN2KSANmKTrN5GLMpFuppDZtC+jHkG5dwB5By4g16hVxh5yyNJ8d2lyeR/O1hrn4n4i4gO/DOakGzNJlgy/otF/F1EZ9ALAMELV1VAGzGadcmX9LtO0qzt1KNIVyCDkHMn+K4TdTby4A56hV6N+66TNWPEWPz1wwKZ8ziNSafZ+UkiNiq+Da/uEF+Pcu0LEQ+IaAN6ARlAazsnKzqs7eQ2Yos1BXqFqvMtWZMV6RmaIl2lw0vS34BmvdIlzzn6nuOQcxHn3EhwFxvuoFfkXIzGCMCHXBFPivhGxHWanzs5Tx1BLgZSFN+SGjLyZ/GFwM8UHNIFSFSoR0VYsNK5vZa2jdgYmdtt6VikyQgU2zDnIjIHnHMzkHPgDnqFXmHkpQfNxLdhQ06G/VTFt17+HRFnaPL0dBF3BRh0+v+LRPxN8e2PobX374qoFdFbOb5XPQDYD5o2Yts1RWumKvFMFX/nOZp9AJEWadroNQHZFBL/o22Yc7M064qrdORuFriDXqOsVzvk3FzNGDEcmRAxqJPNP0Tcrfj29v1KxHciXhDRnR9zkogbRdypHFt2Q0b+csXXQvVnfEHQU8TnIv4loj2oBaw+00KbP8IuqNxG7KOANmJSz1hxkZ6vKdLh3h4eYNOcW6BEcBBZkJxbgpwDd9Ar9CphzgHH41UR20U8JOJCEbNEbBLxiuJbOkPLbujgyd8rvraTtKzGyUafZuHpgKkUfi0y9GtEPKz4etcDgKURVgs1biM2N6CN2EjZydK5SM9V5D7avTmUIOeim3PgDnqFXmHkJcAvRfyviNdEzFF8G4lprTwdFkWz83T66xS+8Pa3rqRZ+StFbFZ8M/YKm3xaorNT8eVkEqgFrIhIZuL9bcTqNbesJ8vYRizId/dqNm3ViigN8SWIo2LkHHIuxJxbpMm5sjC4mwjuQucOeo1Ir3bOuaWanBugAHoiQ/GtbycjTr3kaXY9TUQ3/tkgvuCO1zyHZt3p8Cja6DqYf0az9bRMboOI/iLKlZZ70gOAKUFLa0KekacDPPiwJ20bsQI7EBakSIdzIiGZiRk2zrmSMHgfjpwLL+fAHfQKvVou54ATI47NepzmZ2TO3Urw3vKpIn4hYq2IPvx7Wlf/PgctwXlIscdBb4BkCKlzABWlgDZidNR2uV3IirBI02M9SLmwcm4Rci70nGuGuwpwB71GWa92yrlsGHlT5zKZ+IUiahTfshoy7y+L+I/i6zE/XkGfecDEBYbagJXTOsVZinLfel/HGTqko6Q1tzz5+TWaNmJ1srcRC8LdL0Rs5u+/MYwBitbylSDnIsq5sTbMuY38/X8QcRG4C4s7+u950Cv0GsUxgvRaqeKC0GygNfGniLhU8XWiortutEGW2nFTZys6/dUNmgAzFRgPF9OlqsPR4J8puUPER8dmTfzrGJewOfcGeZ3RPMOgbSOWbQvuXK73tdwFiVruHVzYzCxAkW1z7tig/tOcczgOIudap9cgAb1Cr9EdI6DX5rlzOP4diV5tDFeXLt3O6dPvlIUdCjqvzW7Tti4jK7s+PSNzd2Z2zsas7ByaPaduNOmgCrCzkR8lCswWf0FpTPCoewcOVndeeKm648pR6o+XVau7Ks9XDxZ0Diw8df7jpWlTZ0AbMTJoJXbgrikubltQ7q645uh/d1ecozakpgUW7IkBL0WGYYGtcu7YgI6cC5U7p3NrSznXSu6W21KvLvcO6DVmel0OvYauVzub+FOGlN+XnZO7v3uvvk1jf3Ov+uS8heqCJZ+ob374tfr3979U/+dv76qTpj+qlp1RuTvO5TrgdLkeVHCHA7CZiffyRqOjxWNvv4HqmqdfVFeu2qKu2FAfND774gd1/e+fUPcXlzRqis56zf9vtEkbMa8o0C+Gwt23r/3zaNH2P+c7YQZ+5dtQg5xrRc7t691PO9Cts2XO6aNXW3LX5Ha/DL1CrxbRq3b2foEdZ+lPHTasW8cuJ28fMHio+pzQYnOcaeON91aqQysqf0xISPxMvEQ+XB5glyJ9dONNY3KyuvaJ51slFm2sffxZtSk+4TAXHCo+U+3SRqzJ5V4eLnffzV2gNqSkNt0mnv+corxny5xLSmoKN+caE5Ma7ZhzBunVawu9xns+hF5jpFdPYoMdc+7okppI9eqOP+Q39HbyJ/2HDB2eld3m8K13TwuZN4pbJk7Zm5Dg2QZDD9ihUNPVvnqgS1d11ZJPwhIMBT1XFBy/QbDFLUFRpF+LlDt6nuZW/mQ75dzBzoWNkeacMAiNtso56DVsNMXHL9RFr8LQ21KvXU5uilyvHug1fL0eshN3fQcN6pGdk3tkxtMvhs0bxa13Tz/o8SSuUrD3AJC40NAmpqNm8qv3VkYkGP8MgmaNnxfctXLGb95CtcnlUnlDVIktePOmNCLnoFdL69W3aRN6Rc5Br/rD1b5jp113TH0kYt4ohl88co/Hk/QXuD5AxkKTzkXh6O1jPQRDsfeUIf5uJGNk5q4pLm6PntxtueV2f6FejJwLLeoHD1XtkHOG6HVA6SFb6NXlqodeodeocudw7NKbu339T9kvO3eEwadVPHlaxTm68bZs1RY1LT1jl2LfE5kBiYsNHW+v7ikbpptgKNY9+rS/UC8Bd62Plau3q4dzcv3clcvMW/2Q0xuRc9Ar9GoR3k4tb0LOQa9RhJfWyc9f/KGu3E15eNZhjyfpLbg/QLZic/TI7G9ffUtXwdAufE0bNyk3JDbFxa0xgrtNd/7Wz91s5FwYOed0HpI156DXCPTqjl8HvZow53x96KFX6PU4DCk/a4IIXXmj+FBcgHuSkneLt8iDAwRkKTSFVBCOZGQ26S0YigPdevgLTom03GVm6c7bFx9+7edtu2yF2s9bQ0rqYeSceXIO3EGvLeo1Ne0Icg56jSaKSwasmPzQ44Zwd86IyzaItxgHFwjIUmyqqRjQIRVGCEbTk7kK3IUW+3v29nNXLCNvu8698AByDnqFXq3BW90FVU3IOeg1mshuk1e/IILOPy3Fw0/MpZn5+XCBgCzFZgIVg61jxhkiGDoFkIvNKFm523LjrYZwRwMAczccvCHnwJ25ax30ipwDd/oiwZPYsKyFA7UiCTpMyuFwfAwXCMhSbCZTMdj8m3sNEQwd6y1xoQZ34A3cgTvoFbyBOwPgjIsz5G4QxZsffq2K198AFwjIUmwmHp05uOV2Y2arLrnCX2xGgjtwdxxvN/+mEbwh58AdeEPOgbtgcLvjG2mzqhHc0fId8Rar4AIBWYrNqKNr+kRRMEIwewcOlrZlm+HcDShtkpE7P291543Yg5yDXuXR66AGqfV64aWHkHPQazSRnpm15w0dDtkKFjOfnf+DIndbT8BmZr6YisHhNnkNeotl5aotamOCx386Yrq03LU9STWCuyZ3fKOM3Pl5a0jP2GtYzjmdjVLnXF67JujVZHp1uRtk1uuRzKz9huWc78Rr6BV6PQ6dC7t9PO3Rpw0x81XVP/9EvEUNXCAgU8HZSAXn60XLdBXLmqdf9M8aLAV34C6avDXFez5EziHnfsKdw/EDuDNhzrlc70OvyLlAtG3f/lcV540wZN18WnrGavEWZXCAgEzFpsaI1mN7+w30F5uxsnOnd+uxfX36H5GZOz9vu84+vx45Z46cA3cRtKXs3e+wLfSqcztZ5By4OwGyvSlp+//+/pe6cvf0/EUbHQ7HOvH6LjhAQKZik8enyKnf/O1dXcSy9onn/YWmVtbT6f7Lne/0QnBnkpxriovbJn3OQa/Qqyw553RuhV6Rc82hbX6HRy+o+pmuy4Db5Lb9UpG0AxAAQ3+0hdbhnNwjX3zyXURCWbXkE7UxKalJ5pZZQblre5KqC3eexAY7cOfnrSEjc58uvCUnq7bLuTZ5DdAr9BpN3o5kZR+AXsPMudy2jdBryPB6vSk7HhYXMHoY+at+edMK8ZrLFczKA5IWGxetvaMCQV0Zwi04X723Uj3Y5WR/oZlnO+4GDlYj4e5Qx06H7MKdlrf9xX32RMLbgS5dVdvmHPQKvUZbr33674dew9VraVNEeu1c2Ggn7hglyd7Ufc+99s+IjPz9M2Z/7XA4qItNPlwfIHPBoduBq/wz9KHeEvxu7gK1ISXVbwyocHltyV3bk9RwuGtMTj5iN+60vFG3jLByLjVNtX3OtclrCIs7b0oj9Aq9hqXX7JyD0Cv0GkUMT/J668Odob/+13d+zka+FG4PsEvBWcoF4+im2BPtwv/21bfUPWXD/AWaYoENC81PuKMNT63hrv7U0xvszF0gb7TJDjkHvZpWr0NOOwK9avQ6/KJDyDljc27PqeVNdueOUeJJTNpy1vCLdrZ2U+yLb76/s2Pnws/Fc2l5TQFcHmCnguPiNX4H/AWEZurp4IstN9569GjqrWPGHS1EDekZjZoiUyf5zvrwuMtr1xSUu9S0I+Cued5o5m/nxSObAnk7kpHZBN6g16jrNSX1MLg7gV6D8Aa9tiLn2uQ1BM25tPQGcPcTeJ0u15SEhMS6AYOHbpr2h9mH6WAp/0mxy1ZtOXq66/hJ93/boaDwK6fTuUk8Z5yCNfKAjYtOHrfV2qgpKMFitYhJsh5cAe7AG7gDd+AOvIE7UyFbRHWcy/XXuDjXRmHaDzkcjgbx330ivhe/myuiSrHvXQwACFp4ivlo6ok8qzBBRLWIQrAD7sAbuAN34A28gTsAAAAAAAAAAAAAAAAAAAAAAAAAAAAAAAAAAAAAAAAAAAAAAAAAAAAAAAAAAAAAAAAAAAAAAAAAAAAAAAAAAAAAAAAAAAAAAAAAAAAAAAAAAIDj8P80ri/vX9ZnhwAAAABJRU5ErkJggg==)\n",
    "\n",
    "\n",
    "Causal convolutions allows *infinite memory*, where no memory length is defined. For this purpose the dilation process inflates a given kernel as per a dilation factor prior to the process, that elarge dependencies.\n",
    "\n",
    "Modeling $p(x)$ via ARM based CausalConv allows us to parametrize the Θ parametrizing the following conditionnal probabilities : \n",
    "$$ p_Θ(x_d|x_{<d})$$\n",
    "\n",
    "\n",
    "\n",
    "\n"
   ]
  },
  {
   "cell_type": "markdown",
   "metadata": {
    "id": "nhNTy5mn0XDT"
   },
   "source": [
    "### Autoregressive Model\n",
    "\n",
    "The autoregressive model is parameterized by causal convolutions. Please remember that we must decide on the form of the distribution of conditionals (e.g., Bernoulli, Gaussian, Categorical)."
   ]
  },
  {
   "cell_type": "code",
   "execution_count": 26,
   "metadata": {
    "id": "9vTmKHwrpUVa"
   },
   "outputs": [],
   "source": [
    "# YOUR CODE GOES HERE\n",
    "# NOTE: The class must containt the following functions:\n",
    "# (i) sample\n",
    "# (ii) log_prob\n",
    "# Moreover, forward must return the log-probability of the likelihood function for given x, i.e., log p(x)\n",
    "# Remember that the ARM is parameterized by a neural net composed of causal convolutional layers.\n",
    "# Last, please remember you decide on the form of the distribution p(x_d|x_1:d-1) (e.g., Categorical, Gaussian)!\n",
    "\n",
    "class ARM(nn.Module):\n",
    "    def __init__(self, net, D=2, num_vals=256):\n",
    "        super(ARM, self).__init__()\n",
    "\n",
    "        self.net = net\n",
    "        self.num_vals = num_vals\n",
    "        self.D = D\n",
    "    # Get MLP values and get proba\n",
    "    def f(self, x):\n",
    "        h = self.net(x.unsqueeze(1))\n",
    "\n",
    "        h = h.permute(0, 2, 1)\n",
    "        p = torch.softmax(h, 2)\n",
    "        return p\n",
    "\n",
    "    def log_prob(self, x):\n",
    "        mu_d = self.f(x)\n",
    "        log_p = log_categorical(x, mu_d, num_classes=self.num_vals, reduction='mean', dim=-1).sum(-1)\n",
    "\n",
    "        return log_p\n",
    "\n",
    "    def sample(self, batch_size):\n",
    "\n",
    "        # output: a sample from p(x|z)\n",
    "        # HINT: this could be implemented using a for-loop\n",
    "        x_new = torch.zeros((batch_size, self.D))\n",
    "\n",
    "        for d in range(self.D):\n",
    "            p = self.f(x_new)\n",
    "            x_new_d = torch.multinomial(p[:, d, :], num_samples=1)\n",
    "            x_new[:, d] = x_new_d[:,0]\n",
    "\n",
    "        return x_new\n",
    "\n",
    "    def forward(self, x, reduction='mean'):\n",
    "        if reduction == 'mean':\n",
    "            return -(self.log_prob(x).mean())\n",
    "        elif reduction == 'sum':\n",
    "            return -(self.log_prob(x).sum())\n",
    "        else:\n",
    "            raise ValueError('reduction could be either `mean` or `sum`.')"
   ]
  },
  {
   "cell_type": "markdown",
   "metadata": {
    "id": "5xjbNkNL01DP"
   },
   "source": [
    "Please answer the following questions:"
   ]
  },
  {
   "cell_type": "markdown",
   "metadata": {
    "id": "qjDvPaBj04cA"
   },
   "source": [
    "#### Question 2\n",
    "\n",
    "Please explain your choice of distribution for image data used in this assignment. Additionally, please write it down mathematically (if you think that presenting it as the log-probability, then please do it)."
   ]
  },
  {
   "cell_type": "markdown",
   "metadata": {
    "id": "HLZEzmGI1Ok-"
   },
   "source": [
    "**ANSWER**:\n",
    "\n",
    "* The colored data are they concerned by a categorial distribution\n",
    "$$p_θ(\\mathbf{x_d}|x_{<d}) \\sim Categorical(x_d|θ_d(x_{<d})) $$ with\n",
    "\\begin{align}   \n",
    "  \\mathbf{x} \\in \\{0, 1\\} \\\\\n",
    "  \\mathbf{θ}^d \\in \\{0, 1\\} \\\\\n",
    "  d \\in [0, 16] \\\\\n",
    "  𝐶𝑎𝑡𝑒𝑔𝑜𝑟𝑖𝑐𝑎𝑙(𝑥𝑑|θ𝑑(𝑥<𝑑)) = \\prod^{L}_{l=1}(Θ_{d,l})^{x_d=l} \n",
    "\\end{align}"
   ]
  },
  {
   "cell_type": "markdown",
   "metadata": {
    "id": "RhbWamId1eGt"
   },
   "source": [
    "#### Question 3\n",
    "\n",
    "Please explain how one can sample from the distribution chosen by you. Please be specific and formal (i.e., provide mathematical formulae)."
   ]
  },
  {
   "cell_type": "markdown",
   "metadata": {
    "id": "BgbEJm8FAuze"
   },
   "source": [
    "ANSWER: \n"
   ]
  },
  {
   "cell_type": "markdown",
   "metadata": {
    "id": "eaJgXPYyAmeJ"
   },
   "source": [
    "#### Question 4\n",
    "\n",
    "Please explain why ARMs calculate the exact likelihood function."
   ]
  },
  {
   "cell_type": "markdown",
   "metadata": {
    "id": "THYyO-G7AkSQ"
   },
   "source": [
    "ANSWER: [Please fill in]"
   ]
  },
  {
   "cell_type": "markdown",
   "metadata": {
    "id": "hLhgze7DA4yx"
   },
   "source": [
    "### Evaluation and training functions\n",
    "\n",
    "**Please DO NOT remove or modify them.**"
   ]
  },
  {
   "cell_type": "code",
   "execution_count": 27,
   "metadata": {
    "id": "I9Dr3a6lqJ0W"
   },
   "outputs": [],
   "source": [
    "# ==========DO NOT REMOVE==========\n",
    "\n",
    "def evaluation(test_loader, name=None, model_best=None, epoch=None):\n",
    "    # EVALUATION\n",
    "    if model_best is None:\n",
    "        # load best performing model\n",
    "        model_best = torch.load(name + '.model')\n",
    "\n",
    "    model_best.eval()\n",
    "    loss = 0.\n",
    "    N = 0.\n",
    "    for indx_batch, (test_batch, _) in enumerate(test_loader):\n",
    "        test_batch = test_batch.to(device)\n",
    "        loss_t = model_best.forward(test_batch, reduction='sum')\n",
    "        loss = loss + loss_t.item()\n",
    "        N = N + test_batch.shape[0]\n",
    "    loss = loss / N\n",
    "\n",
    "    if epoch is None:\n",
    "        print(f'FINAL LOSS: nll={loss}')\n",
    "    else:\n",
    "        print(f'Epoch: {epoch}, val nll={loss}')\n",
    "\n",
    "    return loss\n",
    "\n",
    "\n",
    "def samples_real(name, test_loader, shape=(28,28)):\n",
    "    # real images-------\n",
    "    num_x = 4\n",
    "    num_y = 4\n",
    "    x, _ = next(iter(test_loader))\n",
    "    x = x.to('cpu').detach().numpy()\n",
    "\n",
    "    fig, ax = plt.subplots(num_x, num_y)\n",
    "    for i, ax in enumerate(ax.flatten()):\n",
    "        plottable_image = np.reshape(x[i], shape)\n",
    "        ax.imshow(plottable_image, cmap='gray')\n",
    "        ax.axis('off')\n",
    "\n",
    "    plt.savefig(name+'_real_images.pdf', bbox_inches='tight')\n",
    "    plt.close()\n",
    "\n",
    "\n",
    "def samples_generated(name, data_loader, shape=(28,28), extra_name=''):\n",
    "    x, _ = next(iter(data_loader))\n",
    "    x = x.to('cpu').detach().numpy()\n",
    "\n",
    "    # generations-------\n",
    "    model_best = torch.load(name + '.model')\n",
    "    model_best.eval()\n",
    "\n",
    "    num_x = 4\n",
    "    num_y = 4\n",
    "    x = model_best.sample(num_x * num_y)\n",
    "    x = x.to('cpu').detach().numpy()\n",
    "\n",
    "    fig, ax = plt.subplots(num_x, num_y)\n",
    "    for i, ax in enumerate(ax.flatten()):\n",
    "        plottable_image = np.reshape(x[i], shape)\n",
    "        ax.imshow(plottable_image, cmap='gray')\n",
    "        ax.axis('off')\n",
    "\n",
    "    plt.savefig(name + '_generated_images' + extra_name + '.pdf', bbox_inches='tight')\n",
    "    plt.close()\n",
    "\n",
    "\n",
    "def plot_curve(name, nll_val):\n",
    "    plt.plot(np.arange(len(nll_val)), nll_val, linewidth='3')\n",
    "    plt.xlabel('epochs')\n",
    "    plt.ylabel('nll')\n",
    "    plt.savefig(name + '_nll_val_curve.pdf', bbox_inches='tight')\n",
    "    plt.close()"
   ]
  },
  {
   "cell_type": "code",
   "execution_count": 28,
   "metadata": {
    "id": "9ABgMeG0qFAP"
   },
   "outputs": [],
   "source": [
    "# ==========DO NOT REMOVE==========\n",
    "\n",
    "def training(name, max_patience, num_epochs, model, optimizer, training_loader, val_loader, shape=(28,28)):\n",
    "    nll_val = []\n",
    "    best_nll = 1000.\n",
    "    patience = 0\n",
    "\n",
    "    # Main loop\n",
    "    for e in range(num_epochs):\n",
    "        # TRAINING\n",
    "        model.train()\n",
    "        for indx_batch, (batch, _) in enumerate(training_loader):\n",
    "            batch = batch.to(device)\n",
    "            loss = model.forward(batch, reduction='mean')\n",
    "\n",
    "            optimizer.zero_grad()\n",
    "            loss.backward()\n",
    "            optimizer.step()\n",
    "\n",
    "        # Validation\n",
    "        loss_val = evaluation(val_loader, model_best=model, epoch=e)\n",
    "        nll_val.append(loss_val)  # save for plotting\n",
    "\n",
    "        if e == 0:\n",
    "            print('saved!')\n",
    "            torch.save(model, name + '.model')\n",
    "            best_nll = loss_val\n",
    "        else:\n",
    "            if loss_val < best_nll:\n",
    "                print('saved!')\n",
    "                torch.save(model, name + '.model')\n",
    "                best_nll = loss_val\n",
    "                patience = 0\n",
    "\n",
    "                samples_generated(name, val_loader, shape=shape, extra_name=\"_epoch_\" + str(e))\n",
    "            else:\n",
    "                patience = patience + 1\n",
    "\n",
    "        if patience > max_patience:\n",
    "            break\n",
    "\n",
    "    nll_val = np.asarray(nll_val)\n",
    "\n",
    "    return nll_val"
   ]
  },
  {
   "cell_type": "markdown",
   "metadata": {
    "id": "kWr8N2u2qNTu"
   },
   "source": [
    "### Setup\n",
    "\n",
    "**NOTE: *Please comment your code! Especially if you introduce any new variables (e.g., hyperparameters).***\n",
    "\n",
    "In the following cells, we define `transforms` for the dataset. Next, we initialize the data, a directory for results and some fixed hyperparameters."
   ]
  },
  {
   "cell_type": "code",
   "execution_count": 29,
   "metadata": {
    "id": "bFTE5jtYpxDV"
   },
   "outputs": [],
   "source": [
    "# PLEASE DEFINE APPROPRIATE TRANFORMS FOR THE DATASET\n",
    "# (If you don't see any need to do that, then you can skip this cell)\n",
    "# HINT: Please prepare your data accordingly to your chosen distribution in the decoder\n",
    "#https://www.analyticsvidhya.com/blog/2021/04/10-pytorch-transformations-you-need-to-know/\n",
    "# https://medium.com/@sergei740/simple-guide-to-custom-pytorch-transformations-d6bdef5f8ba2\n",
    "#transforms_train = torchvision.transforms.Compose( #FILL IN\n",
    "from torchvision import transforms\n",
    "transforms_train = torchvision.transforms.Compose( [\n",
    "                                                    #transforms.Resize((28,28)),\n",
    "                                                    transforms.ToTensor(),  transforms.Lambda(lambda x: torch.flatten(x))\n",
    "] )\n",
    "transforms_test = torchvision.transforms.Compose( [\n",
    "                                                    #transforms.Resize((28,28)),\n",
    "                                                    transforms.ToTensor(), transforms.Lambda(lambda x: torch.flatten(x))\n",
    "] )\n"
   ]
  },
  {
   "cell_type": "markdown",
   "metadata": {
    "id": "8SDcOBbGCM8z"
   },
   "source": [
    "Please do not modify the code in the next cell."
   ]
  },
  {
   "cell_type": "code",
   "execution_count": 30,
   "metadata": {
    "colab": {
     "base_uri": "https://localhost:8080/"
    },
    "id": "UXHitzrYqNhY",
    "outputId": "25c043a4-a004-4185-fbdd-854fc7b45506"
   },
   "outputs": [],
   "source": [
    "# ==========DO NOT REMOVE==========\n",
    "#-dataset\n",
    "dataset = MNIST('/files/', train=True, download=True,\n",
    "                      transform=transforms_train\n",
    "                )\n",
    "\n",
    "train_dataset, val_dataset = torch.utils.data.random_split(dataset, [50000, 10000], generator=torch.Generator().manual_seed(14))\n",
    "\n",
    "test_dataset = MNIST('/files/', train=False, download=True,\n",
    "                      transform=transforms_test\n",
    "                     )\n",
    "#-dataloaders\n",
    "batch_size = 32\n",
    "\n",
    "train_loader = DataLoader(train_dataset, batch_size=batch_size, shuffle=True)\n",
    "val_loader = DataLoader(val_dataset, batch_size=batch_size, shuffle=False)\n",
    "test_loader = DataLoader(test_dataset, batch_size=batch_size, shuffle=False)\n",
    "\n",
    "#-creating a dir for saving results\n",
    "name = 'arm'\n",
    "result_dir = images_dir + 'results/' + name + '/'\n",
    "if not(os.path.exists(result_dir)):\n",
    "    os.mkdir(result_dir)\n",
    "\n",
    "#-hyperparams (please do not modify them!)\n",
    "num_epochs = 1000 # max. number of epochs\n",
    "max_patience = 20 # an early stopping is used, if training doesn't improve for longer than 20 epochs, it is stopped"
   ]
  },
  {
   "cell_type": "markdown",
   "metadata": {
    "id": "kmKDXMI0B231"
   },
   "source": [
    "In the next cell, please initialize the model. Please remember about commenting your code!"
   ]
  },
  {
   "cell_type": "code",
   "execution_count": 31,
   "metadata": {
    "id": "b73aaBDxqSYb"
   },
   "outputs": [],
   "source": [
    "# BASIC HYPERPARAMETERS\n",
    "D = 784   # input dimension\n",
    "M = 100  # the number of neurons in scale (s) and translation (t) nets\n",
    "\n",
    "lr = 1e-3 # learning rate\n",
    "num_epochs = 100 # max. number of epochs\n",
    "max_patience = 20 # an early stopping is used, if training doesn't improve for longer than 20 epochs, it is stopped\n",
    "\n"
   ]
  },
  {
   "cell_type": "code",
   "execution_count": 32,
   "metadata": {
    "colab": {
     "base_uri": "https://localhost:8080/"
    },
    "id": "N5kdnqbiSDmq",
    "outputId": "cb8fb96c-d7d9-45a8-c292-6fbc7f71693c"
   },
   "outputs": [
    {
     "name": "stdout",
     "output_type": "stream",
     "text": [
      "-----------------------------------------------------------------------\n",
      "      Layer (type)        Output Shape         Param #     Tr. Param #\n",
      "=======================================================================\n",
      "    CausalConv1d-1        [1, 100, 64]             500             500\n",
      "       LeakyReLU-2        [1, 100, 64]               0               0\n",
      "    CausalConv1d-3        [1, 100, 64]          40,100          40,100\n",
      "       LeakyReLU-4        [1, 100, 64]               0               0\n",
      "    CausalConv1d-5        [1, 100, 64]          40,100          40,100\n",
      "       LeakyReLU-6        [1, 100, 64]               0               0\n",
      "    CausalConv1d-7         [1, 16, 64]           6,416           6,416\n",
      "=======================================================================\n",
      "Total params: 87,116\n",
      "Trainable params: 87,116\n",
      "Non-trainable params: 0\n",
      "-----------------------------------------------------------------------\n"
     ]
    },
    {
     "data": {
      "text/plain": [
       "ARM(\n",
       "  (net): Sequential(\n",
       "    (0): CausalConv1d(\n",
       "      (conv1d): Conv1d(1, 100, kernel_size=(4,), stride=(1,), dilation=(8,))\n",
       "    )\n",
       "    (1): LeakyReLU(negative_slope=0.01)\n",
       "    (2): CausalConv1d(\n",
       "      (conv1d): Conv1d(100, 100, kernel_size=(4,), stride=(1,), dilation=(8,))\n",
       "    )\n",
       "    (3): LeakyReLU(negative_slope=0.01)\n",
       "    (4): CausalConv1d(\n",
       "      (conv1d): Conv1d(100, 100, kernel_size=(4,), stride=(1,), dilation=(8,))\n",
       "    )\n",
       "    (5): LeakyReLU(negative_slope=0.01)\n",
       "    (6): CausalConv1d(\n",
       "      (conv1d): Conv1d(100, 16, kernel_size=(4,), stride=(1,), dilation=(8,))\n",
       "    )\n",
       "  )\n",
       ")"
      ]
     },
     "execution_count": 32,
     "metadata": {},
     "output_type": "execute_result"
    }
   ],
   "source": [
    "# INIT YOUR VAE (PLEASE CALL IT model)\n",
    "# AN EXAMPLE: model = ARM(causal_convnet, ...)\n",
    "\n",
    "\n",
    "\n",
    "likelihood_type = 'categorical'\n",
    "\n",
    "num_vals = 16\n",
    "\n",
    "kernel = 4\n",
    "dilatation= 8\n",
    "\n",
    "net = nn.Sequential(\n",
    "    CausalConv1d(in_channels=1, out_channels=M, dilation=dilatation, kernel_size=kernel, A=True, bias=True),\n",
    "    nn.LeakyReLU(),\n",
    "    CausalConv1d(in_channels=M, out_channels=M, dilation=dilatation, kernel_size=kernel, A=False, bias=True),\n",
    "    nn.LeakyReLU(),\n",
    "    CausalConv1d(in_channels=M, out_channels=M, dilation=dilatation, kernel_size=kernel, A=False, bias=True),\n",
    "    nn.LeakyReLU(),\n",
    "    CausalConv1d(in_channels=M, out_channels=num_vals, dilation=dilatation, kernel_size=kernel, A=False, bias=True))\n",
    "\n",
    "model = ARM(net, D=D, num_vals=num_vals)\n",
    "\n",
    "# Print the summary (like in Keras)\n",
    "print(summary(model, torch.zeros(1, 64), show_input=False, show_hierarchical=False))\n",
    "\n",
    "\n",
    "\n",
    "model.to(device)"
   ]
  },
  {
   "cell_type": "markdown",
   "metadata": {
    "id": "iC8AkWt4CURT"
   },
   "source": [
    "Please initialize the optimizer"
   ]
  },
  {
   "cell_type": "code",
   "execution_count": 33,
   "metadata": {
    "id": "a3nTSDe7ql08"
   },
   "outputs": [],
   "source": [
    "# PLEASE DEFINE YOUR OPTIMIZER\n",
    "lr = 1e-3 # learning rate (PLEASE CHANGE IT AS YOU WISH!)\n",
    "optimizer = torch.optim.Adamax([p for p in model.parameters() if p.requires_grad == True], lr=lr)"
   ]
  },
  {
   "cell_type": "markdown",
   "metadata": {
    "id": "79odxtRjCaix"
   },
   "source": [
    "#### Question 5\n",
    "\n",
    "Please explain the choice of the optimizer, and comment on the choice of the hyperparameters (e.g., the learning rate value)."
   ]
  },
  {
   "cell_type": "markdown",
   "metadata": {
    "id": "cEjOlYN9Ft_B"
   },
   "source": [
    "ANSWER: [Please fill in]"
   ]
  },
  {
   "cell_type": "markdown",
   "metadata": {
    "id": "P5GrzUcHFweG"
   },
   "source": [
    "### Training and final evaluation\n",
    "\n",
    "In the following two cells, we run the training and the final evaluation."
   ]
  },
  {
   "cell_type": "code",
   "execution_count": 34,
   "metadata": {
    "colab": {
     "base_uri": "https://localhost:8080/"
    },
    "id": "DjIyjsA4TbE9",
    "outputId": "5148d57f-92b0-4473-b8c6-0b2f9b723c2b"
   },
   "outputs": [
    {
     "data": {
      "text/plain": [
       "<torch.utils.data.dataloader.DataLoader at 0x7fb419ef90d0>"
      ]
     },
     "execution_count": 34,
     "metadata": {},
     "output_type": "execute_result"
    }
   ],
   "source": [
    "train_loader\n"
   ]
  },
  {
   "cell_type": "code",
   "execution_count": 35,
   "metadata": {
    "colab": {
     "base_uri": "https://localhost:8080/",
     "height": 452
    },
    "id": "VD7WuY6bqnBK",
    "outputId": "d9208939-ac40-4b06-d3e4-ec2174c84755"
   },
   "outputs": [
    {
     "name": "stdout",
     "output_type": "stream",
     "text": [
      "Epoch: 0, val nll=3.8896546444892883\n",
      "saved!\n",
      "Epoch: 1, val nll=3.8889203555107117\n",
      "saved!\n",
      "Epoch: 2, val nll=3.8888434081077574\n",
      "saved!\n",
      "Epoch: 3, val nll=3.8888343382835386\n",
      "saved!\n",
      "Epoch: 4, val nll=3.8888343382835386\n",
      "Epoch: 5, val nll=3.8888343382835386\n",
      "Epoch: 6, val nll=3.8888343382835386\n",
      "Epoch: 7, val nll=3.8888343382835386\n",
      "Epoch: 8, val nll=3.8888343382835386\n",
      "Epoch: 9, val nll=3.8888343382835386\n",
      "Epoch: 10, val nll=3.8888343382835386\n",
      "Epoch: 11, val nll=3.8888343382835386\n",
      "Epoch: 12, val nll=3.8888343382835386\n",
      "Epoch: 13, val nll=3.8888343382835386\n",
      "Epoch: 14, val nll=3.8888343382835386\n"
     ]
    },
    {
     "ename": "KeyboardInterrupt",
     "evalue": "",
     "output_type": "error",
     "traceback": [
      "\u001b[0;31m---------------------------------------------------------------------------\u001b[0m",
      "\u001b[0;31mKeyboardInterrupt\u001b[0m                         Traceback (most recent call last)",
      "Cell \u001b[0;32mIn[35], line 3\u001b[0m\n\u001b[1;32m      1\u001b[0m \u001b[38;5;66;03m# ==========DO NOT REMOVE OR MODIFY==========\u001b[39;00m\n\u001b[1;32m      2\u001b[0m \u001b[38;5;66;03m# Training procedure\u001b[39;00m\n\u001b[0;32m----> 3\u001b[0m nll_val \u001b[38;5;241m=\u001b[39m \u001b[43mtraining\u001b[49m\u001b[43m(\u001b[49m\u001b[43mname\u001b[49m\u001b[38;5;241;43m=\u001b[39;49m\u001b[43mresult_dir\u001b[49m\u001b[43m \u001b[49m\u001b[38;5;241;43m+\u001b[39;49m\u001b[43m \u001b[49m\u001b[43mname\u001b[49m\u001b[43m,\u001b[49m\u001b[43m \u001b[49m\u001b[43mmax_patience\u001b[49m\u001b[38;5;241;43m=\u001b[39;49m\u001b[43mmax_patience\u001b[49m\u001b[43m,\u001b[49m\n\u001b[1;32m      4\u001b[0m \u001b[43m                   \u001b[49m\u001b[43mnum_epochs\u001b[49m\u001b[38;5;241;43m=\u001b[39;49m\u001b[43mnum_epochs\u001b[49m\u001b[43m,\u001b[49m\u001b[43m \u001b[49m\u001b[43mmodel\u001b[49m\u001b[38;5;241;43m=\u001b[39;49m\u001b[43mmodel\u001b[49m\u001b[43m,\u001b[49m\u001b[43m \u001b[49m\u001b[43moptimizer\u001b[49m\u001b[38;5;241;43m=\u001b[39;49m\u001b[43moptimizer\u001b[49m\u001b[43m,\u001b[49m\n\u001b[1;32m      5\u001b[0m \u001b[43m                   \u001b[49m\u001b[43mtraining_loader\u001b[49m\u001b[38;5;241;43m=\u001b[39;49m\u001b[43mtrain_loader\u001b[49m\u001b[43m,\u001b[49m\u001b[43m \u001b[49m\u001b[43mval_loader\u001b[49m\u001b[38;5;241;43m=\u001b[39;49m\u001b[43mval_loader\u001b[49m\u001b[43m,\u001b[49m\n\u001b[1;32m      6\u001b[0m \u001b[43m                   \u001b[49m\u001b[43mshape\u001b[49m\u001b[38;5;241;43m=\u001b[39;49m\u001b[43m(\u001b[49m\u001b[38;5;241;43m28\u001b[39;49m\u001b[43m,\u001b[49m\u001b[38;5;241;43m28\u001b[39;49m\u001b[43m)\u001b[49m\u001b[43m)\u001b[49m\n",
      "Cell \u001b[0;32mIn[28], line 17\u001b[0m, in \u001b[0;36mtraining\u001b[0;34m(name, max_patience, num_epochs, model, optimizer, training_loader, val_loader, shape)\u001b[0m\n\u001b[1;32m     14\u001b[0m     loss \u001b[38;5;241m=\u001b[39m model\u001b[38;5;241m.\u001b[39mforward(batch, reduction\u001b[38;5;241m=\u001b[39m\u001b[38;5;124m'\u001b[39m\u001b[38;5;124mmean\u001b[39m\u001b[38;5;124m'\u001b[39m)\n\u001b[1;32m     16\u001b[0m     optimizer\u001b[38;5;241m.\u001b[39mzero_grad()\n\u001b[0;32m---> 17\u001b[0m     \u001b[43mloss\u001b[49m\u001b[38;5;241;43m.\u001b[39;49m\u001b[43mbackward\u001b[49m\u001b[43m(\u001b[49m\u001b[43m)\u001b[49m\n\u001b[1;32m     18\u001b[0m     optimizer\u001b[38;5;241m.\u001b[39mstep()\n\u001b[1;32m     20\u001b[0m \u001b[38;5;66;03m# Validation\u001b[39;00m\n",
      "File \u001b[0;32m~/anaconda3/lib/python3.8/site-packages/torch/tensor.py:221\u001b[0m, in \u001b[0;36mTensor.backward\u001b[0;34m(self, gradient, retain_graph, create_graph)\u001b[0m\n\u001b[1;32m    213\u001b[0m \u001b[38;5;28;01mif\u001b[39;00m \u001b[38;5;28mtype\u001b[39m(\u001b[38;5;28mself\u001b[39m) \u001b[38;5;129;01mis\u001b[39;00m \u001b[38;5;129;01mnot\u001b[39;00m Tensor \u001b[38;5;129;01mand\u001b[39;00m has_torch_function(relevant_args):\n\u001b[1;32m    214\u001b[0m     \u001b[38;5;28;01mreturn\u001b[39;00m handle_torch_function(\n\u001b[1;32m    215\u001b[0m         Tensor\u001b[38;5;241m.\u001b[39mbackward,\n\u001b[1;32m    216\u001b[0m         relevant_args,\n\u001b[0;32m   (...)\u001b[0m\n\u001b[1;32m    219\u001b[0m         retain_graph\u001b[38;5;241m=\u001b[39mretain_graph,\n\u001b[1;32m    220\u001b[0m         create_graph\u001b[38;5;241m=\u001b[39mcreate_graph)\n\u001b[0;32m--> 221\u001b[0m \u001b[43mtorch\u001b[49m\u001b[38;5;241;43m.\u001b[39;49m\u001b[43mautograd\u001b[49m\u001b[38;5;241;43m.\u001b[39;49m\u001b[43mbackward\u001b[49m\u001b[43m(\u001b[49m\u001b[38;5;28;43mself\u001b[39;49m\u001b[43m,\u001b[49m\u001b[43m \u001b[49m\u001b[43mgradient\u001b[49m\u001b[43m,\u001b[49m\u001b[43m \u001b[49m\u001b[43mretain_graph\u001b[49m\u001b[43m,\u001b[49m\u001b[43m \u001b[49m\u001b[43mcreate_graph\u001b[49m\u001b[43m)\u001b[49m\n",
      "File \u001b[0;32m~/anaconda3/lib/python3.8/site-packages/torch/autograd/__init__.py:130\u001b[0m, in \u001b[0;36mbackward\u001b[0;34m(tensors, grad_tensors, retain_graph, create_graph, grad_variables)\u001b[0m\n\u001b[1;32m    127\u001b[0m \u001b[38;5;28;01mif\u001b[39;00m retain_graph \u001b[38;5;129;01mis\u001b[39;00m \u001b[38;5;28;01mNone\u001b[39;00m:\n\u001b[1;32m    128\u001b[0m     retain_graph \u001b[38;5;241m=\u001b[39m create_graph\n\u001b[0;32m--> 130\u001b[0m \u001b[43mVariable\u001b[49m\u001b[38;5;241;43m.\u001b[39;49m\u001b[43m_execution_engine\u001b[49m\u001b[38;5;241;43m.\u001b[39;49m\u001b[43mrun_backward\u001b[49m\u001b[43m(\u001b[49m\n\u001b[1;32m    131\u001b[0m \u001b[43m    \u001b[49m\u001b[43mtensors\u001b[49m\u001b[43m,\u001b[49m\u001b[43m \u001b[49m\u001b[43mgrad_tensors_\u001b[49m\u001b[43m,\u001b[49m\u001b[43m \u001b[49m\u001b[43mretain_graph\u001b[49m\u001b[43m,\u001b[49m\u001b[43m \u001b[49m\u001b[43mcreate_graph\u001b[49m\u001b[43m,\u001b[49m\n\u001b[1;32m    132\u001b[0m \u001b[43m    \u001b[49m\u001b[43mallow_unreachable\u001b[49m\u001b[38;5;241;43m=\u001b[39;49m\u001b[38;5;28;43;01mTrue\u001b[39;49;00m\u001b[43m)\u001b[49m\n",
      "\u001b[0;31mKeyboardInterrupt\u001b[0m: "
     ]
    }
   ],
   "source": [
    "# ==========DO NOT REMOVE OR MODIFY==========\n",
    "# Training procedure\n",
    "nll_val = training(name=result_dir + name, max_patience=max_patience,\n",
    "                   num_epochs=num_epochs, model=model, optimizer=optimizer,\n",
    "                   training_loader=train_loader, val_loader=val_loader,\n",
    "                   shape=(28,28))"
   ]
  },
  {
   "cell_type": "code",
   "execution_count": null,
   "metadata": {
    "id": "JAuMt9_wquOI"
   },
   "outputs": [],
   "source": [
    "# ==========DO NOT REMOVE OR MODIFY==========\n",
    "# Final evaluation\n",
    "test_loss = evaluation(name=result_dir + name, test_loader=test_loader)\n",
    "f = open(result_dir + name + '_test_loss.txt', \"w\")\n",
    "f.write(str(test_loss))\n",
    "f.close()\n",
    "\n",
    "samples_real(result_dir + name, test_loader)\n",
    "samples_generated(result_dir + name, test_loader, extra_name='_FINAL')\n",
    "\n",
    "plot_curve(result_dir + name, nll_val)"
   ]
  },
  {
   "cell_type": "markdown",
   "metadata": {
    "id": "qaBwGtSJF8ag"
   },
   "source": [
    "### Results and discussion\n",
    "\n",
    "After a successful training of your model, we would like to ask you to present your data and analyze it. Please answer the following questions."
   ]
  },
  {
   "cell_type": "markdown",
   "metadata": {
    "id": "v4WZkoiHFyZm"
   },
   "source": [
    "#### Question 6\n",
    "\n",
    "Please select the real data, and the final generated data and include them in this report. Please comment on the following:\n",
    "- Do you think the model was trained properly by looking at the generations? Please motivate your answer well.\n",
    "- Compared to the previous assignment, could you say whether this model works better (or worse)? Why?"
   ]
  },
  {
   "cell_type": "markdown",
   "metadata": {
    "id": "Z8yQ2T9GIuvc"
   },
   "source": [
    "ANSWER: [Please fill in]"
   ]
  },
  {
   "cell_type": "markdown",
   "metadata": {
    "id": "lmyH318fIwc9"
   },
   "source": [
    "#### Question 7\n",
    "\n",
    "Please include the plot of the likelihood function. Please comment on the following:\n",
    "- Is the training of your ARM stable or unstable? Why?\n",
    "- What is the influence of the optimizer on your model? Do the hyperparameter values of the optimizer important and how do they influence the training? Motivate well your answer (e.g., run the script with more than one learning rate and present two plots here)."
   ]
  },
  {
   "cell_type": "markdown",
   "metadata": {
    "id": "-10GAVZtKTj2"
   },
   "source": [
    "ANSWER: [Please fill in]"
   ]
  }
 ],
 "metadata": {
  "accelerator": "GPU",
  "colab": {
   "provenance": []
  },
  "kernelspec": {
   "display_name": "Python 3 (ipykernel)",
   "language": "python",
   "name": "python3"
  },
  "language_info": {
   "codemirror_mode": {
    "name": "ipython",
    "version": 3
   },
   "file_extension": ".py",
   "mimetype": "text/x-python",
   "name": "python",
   "nbconvert_exporter": "python",
   "pygments_lexer": "ipython3",
   "version": "3.8.16"
  }
 },
 "nbformat": 4,
 "nbformat_minor": 1
}
